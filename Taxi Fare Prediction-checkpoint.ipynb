{
 "cells": [
  {
   "cell_type": "markdown",
   "id": "23db4899",
   "metadata": {},
   "source": [
    "### Problem Statement\n",
    "\n",
    "🎉🎉 Attention all student data whizzes! We are beyond excited to kick off the \"Data Science Student Championship 2023\". This year's challenge? A real head-turner: Predicting the 'total_fare' for taxi rides! 🚖\n",
    "\n",
    " \n",
    "As a student, you've undoubtedly hailed a ride when you're late for class or heading out for a late-night study session. Ever wondered how the total cost of your ride is determined? Well, it's time to switch gears from passenger to predictor. **In this thrilling hackathon, you'll put your data science skills to the ultimate test by predicting the total fare of a ride-hailing trip. 🎯**\n",
    "\n",
    " \n",
    "This championship is designed not just to put your skills under the microscope, but to refine them, strengthen them, and prepare you for real-world problem-solving scenarios. And that's not all! You'll be delving into a fundamental issue in the world of transportation economics.\n",
    "\n",
    "### Metadata\n",
    "Here's a quick look at your toolbox for this challenge 🛠️💼📚:\n",
    "\n",
    "* ⏱️ 'trip_duration': How long did the journey last? [in Seconds]\n",
    "* 🛣️ 'distance_traveled': How far did the taxi travel? [in Km]\n",
    "* 🧑‍🤝‍🧑 'num_of_passengers': How many passengers were in the taxi?\n",
    "* 💵 'fare': What's the base fare for the journey?\n",
    "* 💲 'tip': How much did the driver receive in tips?\n",
    "* 🎀 'miscellaneous_fees': Were there any additional charges during the trip?\n",
    "* 💰 'total_fare': The grand total for the ride (this is your prediction target!).\n",
    "* ⚡ 'surge_applied': Was there a surge pricing applied? Yes or no?"
   ]
  },
  {
   "cell_type": "code",
   "execution_count": 1,
   "id": "b9adc8ef",
   "metadata": {},
   "outputs": [],
   "source": [
    "# import the required libraries\n",
    "\n",
    "import numpy as np\n",
    "import pandas as pd\n",
    "\n",
    "import matplotlib.pyplot as plt\n",
    "import seaborn as sns\n",
    "\n",
    "import warnings\n",
    "warnings.filterwarnings(\"ignore\")"
   ]
  },
  {
   "cell_type": "code",
   "execution_count": 3,
   "id": "237b048a",
   "metadata": {},
   "outputs": [],
   "source": [
    "# Import the Data...\n",
    "\n",
    "train = pd.read_csv(\"train.csv\")\n",
    "test = pd.read_csv(\"test.csv\")"
   ]
  },
  {
   "cell_type": "code",
   "execution_count": 4,
   "id": "b431f8bf",
   "metadata": {},
   "outputs": [
    {
     "data": {
      "text/plain": [
       "((209673, 8), (89861, 8))"
      ]
     },
     "execution_count": 4,
     "metadata": {},
     "output_type": "execute_result"
    }
   ],
   "source": [
    "# Check the Shape of the Data\n",
    "train.shape, test.shape"
   ]
  },
  {
   "cell_type": "code",
   "execution_count": 5,
   "id": "042a2bc6",
   "metadata": {},
   "outputs": [
    {
     "data": {
      "text/html": [
       "<div>\n",
       "<style scoped>\n",
       "    .dataframe tbody tr th:only-of-type {\n",
       "        vertical-align: middle;\n",
       "    }\n",
       "\n",
       "    .dataframe tbody tr th {\n",
       "        vertical-align: top;\n",
       "    }\n",
       "\n",
       "    .dataframe thead th {\n",
       "        text-align: right;\n",
       "    }\n",
       "</style>\n",
       "<table border=\"1\" class=\"dataframe\">\n",
       "  <thead>\n",
       "    <tr style=\"text-align: right;\">\n",
       "      <th></th>\n",
       "      <th>trip_duration</th>\n",
       "      <th>distance_traveled</th>\n",
       "      <th>num_of_passengers</th>\n",
       "      <th>fare</th>\n",
       "      <th>tip</th>\n",
       "      <th>miscellaneous_fees</th>\n",
       "      <th>total_fare</th>\n",
       "      <th>surge_applied</th>\n",
       "    </tr>\n",
       "  </thead>\n",
       "  <tbody>\n",
       "    <tr>\n",
       "      <th>0</th>\n",
       "      <td>748.0</td>\n",
       "      <td>2.75</td>\n",
       "      <td>1.0</td>\n",
       "      <td>75.00</td>\n",
       "      <td>24</td>\n",
       "      <td>6.300</td>\n",
       "      <td>105.300</td>\n",
       "      <td>0</td>\n",
       "    </tr>\n",
       "    <tr>\n",
       "      <th>1</th>\n",
       "      <td>1187.0</td>\n",
       "      <td>3.43</td>\n",
       "      <td>1.0</td>\n",
       "      <td>105.00</td>\n",
       "      <td>24</td>\n",
       "      <td>13.200</td>\n",
       "      <td>142.200</td>\n",
       "      <td>0</td>\n",
       "    </tr>\n",
       "    <tr>\n",
       "      <th>2</th>\n",
       "      <td>730.0</td>\n",
       "      <td>3.12</td>\n",
       "      <td>1.0</td>\n",
       "      <td>71.25</td>\n",
       "      <td>0</td>\n",
       "      <td>26.625</td>\n",
       "      <td>97.875</td>\n",
       "      <td>1</td>\n",
       "    </tr>\n",
       "    <tr>\n",
       "      <th>3</th>\n",
       "      <td>671.0</td>\n",
       "      <td>5.63</td>\n",
       "      <td>3.0</td>\n",
       "      <td>90.00</td>\n",
       "      <td>0</td>\n",
       "      <td>9.750</td>\n",
       "      <td>99.750</td>\n",
       "      <td>0</td>\n",
       "    </tr>\n",
       "    <tr>\n",
       "      <th>4</th>\n",
       "      <td>329.0</td>\n",
       "      <td>2.09</td>\n",
       "      <td>1.0</td>\n",
       "      <td>45.00</td>\n",
       "      <td>12</td>\n",
       "      <td>13.200</td>\n",
       "      <td>70.200</td>\n",
       "      <td>0</td>\n",
       "    </tr>\n",
       "  </tbody>\n",
       "</table>\n",
       "</div>"
      ],
      "text/plain": [
       "   trip_duration  distance_traveled  num_of_passengers    fare  tip  \\\n",
       "0          748.0               2.75                1.0   75.00   24   \n",
       "1         1187.0               3.43                1.0  105.00   24   \n",
       "2          730.0               3.12                1.0   71.25    0   \n",
       "3          671.0               5.63                3.0   90.00    0   \n",
       "4          329.0               2.09                1.0   45.00   12   \n",
       "\n",
       "   miscellaneous_fees  total_fare  surge_applied  \n",
       "0               6.300     105.300              0  \n",
       "1              13.200     142.200              0  \n",
       "2              26.625      97.875              1  \n",
       "3               9.750      99.750              0  \n",
       "4              13.200      70.200              0  "
      ]
     },
     "execution_count": 5,
     "metadata": {},
     "output_type": "execute_result"
    }
   ],
   "source": [
    "# Preview the Train and Test both\n",
    "train.head()"
   ]
  },
  {
   "cell_type": "code",
   "execution_count": 6,
   "id": "1e330bd6",
   "metadata": {},
   "outputs": [
    {
     "data": {
      "text/html": [
       "<div>\n",
       "<style scoped>\n",
       "    .dataframe tbody tr th:only-of-type {\n",
       "        vertical-align: middle;\n",
       "    }\n",
       "\n",
       "    .dataframe tbody tr th {\n",
       "        vertical-align: top;\n",
       "    }\n",
       "\n",
       "    .dataframe thead th {\n",
       "        text-align: right;\n",
       "    }\n",
       "</style>\n",
       "<table border=\"1\" class=\"dataframe\">\n",
       "  <thead>\n",
       "    <tr style=\"text-align: right;\">\n",
       "      <th></th>\n",
       "      <th>trip_duration</th>\n",
       "      <th>distance_traveled</th>\n",
       "      <th>num_of_passengers</th>\n",
       "      <th>fare</th>\n",
       "      <th>tip</th>\n",
       "      <th>miscellaneous_fees</th>\n",
       "      <th>total_fare</th>\n",
       "      <th>surge_applied</th>\n",
       "    </tr>\n",
       "  </thead>\n",
       "  <tbody>\n",
       "    <tr>\n",
       "      <th>0</th>\n",
       "      <td>1076.0</td>\n",
       "      <td>4.18</td>\n",
       "      <td>1.0</td>\n",
       "      <td>0</td>\n",
       "      <td>0</td>\n",
       "      <td>13.500</td>\n",
       "      <td>0</td>\n",
       "      <td>0</td>\n",
       "    </tr>\n",
       "    <tr>\n",
       "      <th>1</th>\n",
       "      <td>429.0</td>\n",
       "      <td>1.48</td>\n",
       "      <td>4.0</td>\n",
       "      <td>0</td>\n",
       "      <td>0</td>\n",
       "      <td>13.500</td>\n",
       "      <td>0</td>\n",
       "      <td>0</td>\n",
       "    </tr>\n",
       "    <tr>\n",
       "      <th>2</th>\n",
       "      <td>856.0</td>\n",
       "      <td>4.15</td>\n",
       "      <td>1.0</td>\n",
       "      <td>0</td>\n",
       "      <td>24</td>\n",
       "      <td>6.000</td>\n",
       "      <td>0</td>\n",
       "      <td>0</td>\n",
       "    </tr>\n",
       "    <tr>\n",
       "      <th>3</th>\n",
       "      <td>622.0</td>\n",
       "      <td>3.22</td>\n",
       "      <td>1.0</td>\n",
       "      <td>0</td>\n",
       "      <td>15</td>\n",
       "      <td>5.625</td>\n",
       "      <td>0</td>\n",
       "      <td>0</td>\n",
       "    </tr>\n",
       "    <tr>\n",
       "      <th>4</th>\n",
       "      <td>507.0</td>\n",
       "      <td>3.98</td>\n",
       "      <td>1.0</td>\n",
       "      <td>0</td>\n",
       "      <td>0</td>\n",
       "      <td>2.250</td>\n",
       "      <td>0</td>\n",
       "      <td>0</td>\n",
       "    </tr>\n",
       "  </tbody>\n",
       "</table>\n",
       "</div>"
      ],
      "text/plain": [
       "   trip_duration  distance_traveled  num_of_passengers  fare  tip  \\\n",
       "0         1076.0               4.18                1.0     0    0   \n",
       "1          429.0               1.48                4.0     0    0   \n",
       "2          856.0               4.15                1.0     0   24   \n",
       "3          622.0               3.22                1.0     0   15   \n",
       "4          507.0               3.98                1.0     0    0   \n",
       "\n",
       "   miscellaneous_fees  total_fare  surge_applied  \n",
       "0              13.500           0              0  \n",
       "1              13.500           0              0  \n",
       "2               6.000           0              0  \n",
       "3               5.625           0              0  \n",
       "4               2.250           0              0  "
      ]
     },
     "execution_count": 6,
     "metadata": {},
     "output_type": "execute_result"
    }
   ],
   "source": [
    "# Test set has n-1 columns where n is the total number of columns in Train Dataset...\n",
    "test.head()"
   ]
  },
  {
   "cell_type": "markdown",
   "id": "98f99f54",
   "metadata": {},
   "source": [
    "**Inference: relation is Fare +tip+Misc_Fee = total_fare...**\n",
    "\n",
    "### Exploratory Data Analysis\n",
    "\n",
    "* Univariate Analysis\n",
    "* Bivariate Analysis\n",
    "* Missing Values\n",
    "* Outlier Identification and Removal\n",
    "* Feature Engineering\n",
    "* Statistical Analysis\n",
    "* Scaling/Transformation...\n",
    "\n",
    "At this stage the data is ready for Modelling\n",
    "\n",
    "### Model Building\n",
    "\n",
    "* Base Models - Linear Regression, Decision Tree, Random Forest, Gradient Boosting Machines, Xtreme Gradient Boosting, CatboostRegressor, LightGBM.\n",
    "\n",
    "Keep Submittting the Model Output and see which model gives you the lowest RMSE Possible.\n",
    "\n",
    "* Once you know which model(s) have returned the lowest possible RMSE, then you can combine those models and build an ensemble on that. \n",
    "\n",
    "Like for e.g. you found that `Random Forest & Gradient Boosting` gave the lowest possible RMSE, you take those models and put it in **VotingRegressor Function**. This voting regressor will generate the output for both the models and will take the average of both the predictions and will generate the final prediction...\n",
    "\n",
    "* `Cross Validation Models` - Take KFold Cross Validation for instance and you build all the models using Cross Validation. Remember train test split is a basic way of building the models. We always do the Cross Validation so that we can say that the predictions are accurate\n",
    "\n",
    "* In order to maximise the performance of these models, you have to do the **Parameter Tuning of these models.**\n",
    "\n",
    "### ML OPs - Deployment of the Machine Learning Model...\n",
    "\n",
    "Machine Learning Operations are generally the segment in ML that is used to Deploy these application in the real world. For example you are building a taxi fare prediction model. You will take this inference and calculation done to put this in real world through mobile-app enabling customers finding the fare price with transparency using A.I. \n",
    "\n",
    "Some of the very popular platforms for deployment of ML Models - Streamlit,Heroku, (Django and Flask) apart from Cloud which is AWS or Azure etc...\n",
    "\n",
    "\n",
    "**Note and area of brainstorming - Connecting SQL with Python..**"
   ]
  },
  {
   "cell_type": "code",
   "execution_count": 7,
   "id": "0caad9a2",
   "metadata": {},
   "outputs": [],
   "source": [
    "# Combine the Train and Test set\n",
    "\n",
    "combined = pd.concat([train, test], ignore_index = True)"
   ]
  },
  {
   "cell_type": "code",
   "execution_count": 8,
   "id": "1ebbecb6",
   "metadata": {},
   "outputs": [
    {
     "data": {
      "text/plain": [
       "(299534, 8)"
      ]
     },
     "execution_count": 8,
     "metadata": {},
     "output_type": "execute_result"
    }
   ],
   "source": [
    "combined.shape"
   ]
  },
  {
   "cell_type": "code",
   "execution_count": 9,
   "id": "4d055b67",
   "metadata": {},
   "outputs": [
    {
     "data": {
      "text/html": [
       "<div>\n",
       "<style scoped>\n",
       "    .dataframe tbody tr th:only-of-type {\n",
       "        vertical-align: middle;\n",
       "    }\n",
       "\n",
       "    .dataframe tbody tr th {\n",
       "        vertical-align: top;\n",
       "    }\n",
       "\n",
       "    .dataframe thead th {\n",
       "        text-align: right;\n",
       "    }\n",
       "</style>\n",
       "<table border=\"1\" class=\"dataframe\">\n",
       "  <thead>\n",
       "    <tr style=\"text-align: right;\">\n",
       "      <th></th>\n",
       "      <th>trip_duration</th>\n",
       "      <th>distance_traveled</th>\n",
       "      <th>num_of_passengers</th>\n",
       "      <th>fare</th>\n",
       "      <th>tip</th>\n",
       "      <th>miscellaneous_fees</th>\n",
       "      <th>total_fare</th>\n",
       "      <th>surge_applied</th>\n",
       "    </tr>\n",
       "  </thead>\n",
       "  <tbody>\n",
       "    <tr>\n",
       "      <th>0</th>\n",
       "      <td>748.0</td>\n",
       "      <td>2.75</td>\n",
       "      <td>1.0</td>\n",
       "      <td>75.00</td>\n",
       "      <td>24</td>\n",
       "      <td>6.300</td>\n",
       "      <td>105.300</td>\n",
       "      <td>0</td>\n",
       "    </tr>\n",
       "    <tr>\n",
       "      <th>1</th>\n",
       "      <td>1187.0</td>\n",
       "      <td>3.43</td>\n",
       "      <td>1.0</td>\n",
       "      <td>105.00</td>\n",
       "      <td>24</td>\n",
       "      <td>13.200</td>\n",
       "      <td>142.200</td>\n",
       "      <td>0</td>\n",
       "    </tr>\n",
       "    <tr>\n",
       "      <th>2</th>\n",
       "      <td>730.0</td>\n",
       "      <td>3.12</td>\n",
       "      <td>1.0</td>\n",
       "      <td>71.25</td>\n",
       "      <td>0</td>\n",
       "      <td>26.625</td>\n",
       "      <td>97.875</td>\n",
       "      <td>1</td>\n",
       "    </tr>\n",
       "    <tr>\n",
       "      <th>3</th>\n",
       "      <td>671.0</td>\n",
       "      <td>5.63</td>\n",
       "      <td>3.0</td>\n",
       "      <td>90.00</td>\n",
       "      <td>0</td>\n",
       "      <td>9.750</td>\n",
       "      <td>99.750</td>\n",
       "      <td>0</td>\n",
       "    </tr>\n",
       "    <tr>\n",
       "      <th>4</th>\n",
       "      <td>329.0</td>\n",
       "      <td>2.09</td>\n",
       "      <td>1.0</td>\n",
       "      <td>45.00</td>\n",
       "      <td>12</td>\n",
       "      <td>13.200</td>\n",
       "      <td>70.200</td>\n",
       "      <td>0</td>\n",
       "    </tr>\n",
       "  </tbody>\n",
       "</table>\n",
       "</div>"
      ],
      "text/plain": [
       "   trip_duration  distance_traveled  num_of_passengers    fare  tip  \\\n",
       "0          748.0               2.75                1.0   75.00   24   \n",
       "1         1187.0               3.43                1.0  105.00   24   \n",
       "2          730.0               3.12                1.0   71.25    0   \n",
       "3          671.0               5.63                3.0   90.00    0   \n",
       "4          329.0               2.09                1.0   45.00   12   \n",
       "\n",
       "   miscellaneous_fees  total_fare  surge_applied  \n",
       "0               6.300     105.300              0  \n",
       "1              13.200     142.200              0  \n",
       "2              26.625      97.875              1  \n",
       "3               9.750      99.750              0  \n",
       "4              13.200      70.200              0  "
      ]
     },
     "execution_count": 9,
     "metadata": {},
     "output_type": "execute_result"
    }
   ],
   "source": [
    "# Lets start with EDA and filter the data in the form of num and cat var.\n",
    "\n",
    "combined.head()"
   ]
  },
  {
   "cell_type": "code",
   "execution_count": 10,
   "id": "0c80e70a",
   "metadata": {},
   "outputs": [
    {
     "data": {
      "text/plain": [
       "Index(['trip_duration', 'distance_traveled', 'num_of_passengers', 'fare',\n",
       "       'tip', 'miscellaneous_fees', 'total_fare', 'surge_applied'],\n",
       "      dtype='object')"
      ]
     },
     "execution_count": 10,
     "metadata": {},
     "output_type": "execute_result"
    }
   ],
   "source": [
    "combined.select_dtypes(include = np.number).columns"
   ]
  },
  {
   "cell_type": "code",
   "execution_count": 11,
   "id": "f9ed3f35",
   "metadata": {},
   "outputs": [],
   "source": [
    "num_vars =['trip_duration', 'distance_traveled', 'fare',\n",
    "       'tip', 'miscellaneous_fees', 'total_fare']\n",
    "\n",
    "cat_vars = ['num_of_passengers', 'surge_applied']"
   ]
  },
  {
   "cell_type": "code",
   "execution_count": 12,
   "id": "dfa53e25",
   "metadata": {},
   "outputs": [
    {
     "data": {
      "image/png": "[encoded data removed]",
      "text/plain": [
       "<Figure size 720x576 with 6 Axes>"
      ]
     },
     "metadata": {
      "needs_background": "light"
     },
     "output_type": "display_data"
    }
   ],
   "source": [
    "# num_vars - distplot\n",
    "\n",
    "nrows = 3 # number of rows for the plot area\n",
    "ncols = 2 # no of cols for the plot area...\n",
    "iterator =1 # to initiate the plots using loop. Default Counter is 1...\n",
    "\n",
    "plt.figure(figsize = (10, 8))\n",
    "for i in num_vars:\n",
    "    plt.subplot(nrows, ncols, iterator) # plot dimensions\n",
    "    sns.distplot(combined.loc[:, i])\n",
    "    iterator = iterator+1\n",
    "\n",
    "plt.tight_layout()\n",
    "plt.show()"
   ]
  },
  {
   "cell_type": "markdown",
   "id": "031084b5",
   "metadata": {},
   "source": [
    "Inference:\n",
    "\n",
    "* Since the numerical variables comprise of fare and additional charges along with tip, the data is natually bound to be Positively Skewed.\n",
    "\n",
    "* Also, distance travelled can be min 0 but can't be negative and thus, we see that there is a positively skewed pattern in the data.\n",
    "\n",
    "#### What exactly it means\n",
    "\n",
    "It simply means, a lot of people are paying higher prices for the distance they travel.\n",
    "\n",
    "Note: Time in seconds show 0 which is not possible. Therefore, we need to fix this pattern too."
   ]
  },
  {
   "cell_type": "code",
   "execution_count": 13,
   "id": "86f91e9e",
   "metadata": {},
   "outputs": [
    {
     "data": {
      "text/html": [
       "<div>\n",
       "<style scoped>\n",
       "    .dataframe tbody tr th:only-of-type {\n",
       "        vertical-align: middle;\n",
       "    }\n",
       "\n",
       "    .dataframe tbody tr th {\n",
       "        vertical-align: top;\n",
       "    }\n",
       "\n",
       "    .dataframe thead th {\n",
       "        text-align: right;\n",
       "    }\n",
       "</style>\n",
       "<table border=\"1\" class=\"dataframe\">\n",
       "  <thead>\n",
       "    <tr style=\"text-align: right;\">\n",
       "      <th></th>\n",
       "      <th>trip_duration</th>\n",
       "      <th>distance_traveled</th>\n",
       "      <th>num_of_passengers</th>\n",
       "      <th>fare</th>\n",
       "      <th>tip</th>\n",
       "      <th>miscellaneous_fees</th>\n",
       "      <th>total_fare</th>\n",
       "      <th>surge_applied</th>\n",
       "    </tr>\n",
       "  </thead>\n",
       "  <tbody>\n",
       "    <tr>\n",
       "      <th>count</th>\n",
       "      <td>209673.000000</td>\n",
       "      <td>209673.000000</td>\n",
       "      <td>209673.000000</td>\n",
       "      <td>209673.000000</td>\n",
       "      <td>209673.000000</td>\n",
       "      <td>209673.000000</td>\n",
       "      <td>209673.000000</td>\n",
       "      <td>209673.000000</td>\n",
       "    </tr>\n",
       "    <tr>\n",
       "      <th>mean</th>\n",
       "      <td>1173.181478</td>\n",
       "      <td>5.054431</td>\n",
       "      <td>1.292808</td>\n",
       "      <td>99.623431</td>\n",
       "      <td>13.030824</td>\n",
       "      <td>15.136829</td>\n",
       "      <td>127.791084</td>\n",
       "      <td>0.280523</td>\n",
       "    </tr>\n",
       "    <tr>\n",
       "      <th>std</th>\n",
       "      <td>4775.653621</td>\n",
       "      <td>125.217419</td>\n",
       "      <td>0.930754</td>\n",
       "      <td>85.602702</td>\n",
       "      <td>20.367764</td>\n",
       "      <td>12.553436</td>\n",
       "      <td>98.797374</td>\n",
       "      <td>0.449256</td>\n",
       "    </tr>\n",
       "    <tr>\n",
       "      <th>min</th>\n",
       "      <td>0.000000</td>\n",
       "      <td>0.020000</td>\n",
       "      <td>0.000000</td>\n",
       "      <td>0.000000</td>\n",
       "      <td>0.000000</td>\n",
       "      <td>-0.500000</td>\n",
       "      <td>0.000000</td>\n",
       "      <td>0.000000</td>\n",
       "    </tr>\n",
       "    <tr>\n",
       "      <th>25%</th>\n",
       "      <td>446.000000</td>\n",
       "      <td>1.950000</td>\n",
       "      <td>1.000000</td>\n",
       "      <td>52.500000</td>\n",
       "      <td>0.000000</td>\n",
       "      <td>6.000000</td>\n",
       "      <td>70.200000</td>\n",
       "      <td>0.000000</td>\n",
       "    </tr>\n",
       "    <tr>\n",
       "      <th>50%</th>\n",
       "      <td>707.000000</td>\n",
       "      <td>3.200000</td>\n",
       "      <td>1.000000</td>\n",
       "      <td>75.000000</td>\n",
       "      <td>9.000000</td>\n",
       "      <td>9.750000</td>\n",
       "      <td>101.700000</td>\n",
       "      <td>0.000000</td>\n",
       "    </tr>\n",
       "    <tr>\n",
       "      <th>75%</th>\n",
       "      <td>1098.000000</td>\n",
       "      <td>5.730000</td>\n",
       "      <td>1.000000</td>\n",
       "      <td>116.250000</td>\n",
       "      <td>20.000000</td>\n",
       "      <td>26.450000</td>\n",
       "      <td>152.250000</td>\n",
       "      <td>1.000000</td>\n",
       "    </tr>\n",
       "    <tr>\n",
       "      <th>max</th>\n",
       "      <td>86387.000000</td>\n",
       "      <td>57283.910000</td>\n",
       "      <td>9.000000</td>\n",
       "      <td>4466.250000</td>\n",
       "      <td>2500.000000</td>\n",
       "      <td>435.000000</td>\n",
       "      <td>4472.250000</td>\n",
       "      <td>1.000000</td>\n",
       "    </tr>\n",
       "  </tbody>\n",
       "</table>\n",
       "</div>"
      ],
      "text/plain": [
       "       trip_duration  distance_traveled  num_of_passengers           fare  \\\n",
       "count  209673.000000      209673.000000      209673.000000  209673.000000   \n",
       "mean     1173.181478           5.054431           1.292808      99.623431   \n",
       "std      4775.653621         125.217419           0.930754      85.602702   \n",
       "min         0.000000           0.020000           0.000000       0.000000   \n",
       "25%       446.000000           1.950000           1.000000      52.500000   \n",
       "50%       707.000000           3.200000           1.000000      75.000000   \n",
       "75%      1098.000000           5.730000           1.000000     116.250000   \n",
       "max     86387.000000       57283.910000           9.000000    4466.250000   \n",
       "\n",
       "                 tip  miscellaneous_fees     total_fare  surge_applied  \n",
       "count  209673.000000       209673.000000  209673.000000  209673.000000  \n",
       "mean       13.030824           15.136829     127.791084       0.280523  \n",
       "std        20.367764           12.553436      98.797374       0.449256  \n",
       "min         0.000000           -0.500000       0.000000       0.000000  \n",
       "25%         0.000000            6.000000      70.200000       0.000000  \n",
       "50%         9.000000            9.750000     101.700000       0.000000  \n",
       "75%        20.000000           26.450000     152.250000       1.000000  \n",
       "max      2500.000000          435.000000    4472.250000       1.000000  "
      ]
     },
     "execution_count": 13,
     "metadata": {},
     "output_type": "execute_result"
    }
   ],
   "source": [
    "# Run the Statistical Summary of the whole dataset...\n",
    "\n",
    "train.describe()"
   ]
  },
  {
   "cell_type": "markdown",
   "id": "01e5d399",
   "metadata": {},
   "source": [
    "We also notice that trip_duration, num_of_passengers and fare is 0. We need to analyse this data separately."
   ]
  },
  {
   "cell_type": "code",
   "execution_count": 14,
   "id": "6c8e687c",
   "metadata": {},
   "outputs": [
    {
     "data": {
      "text/plain": [
       "<AxesSubplot:xlabel='num_of_passengers', ylabel='Density'>"
      ]
     },
     "execution_count": 14,
     "metadata": {},
     "output_type": "execute_result"
    },
    {
     "data": {
      "image/png": "[encoded data removed]",
      "text/plain": [
       "<Figure size 432x288 with 1 Axes>"
      ]
     },
     "metadata": {
      "needs_background": "light"
     },
     "output_type": "display_data"
    }
   ],
   "source": [
    "sns.distplot(combined.num_of_passengers)"
   ]
  },
  {
   "cell_type": "code",
   "execution_count": 15,
   "id": "29664d66",
   "metadata": {},
   "outputs": [
    {
     "name": "stdout",
     "output_type": "stream",
     "text": [
      "Unique:  [1. 3. 2. 0. 6. 5. 4. 8. 7. 9.]\n",
      "Unique_Surge:  [0 1]\n"
     ]
    }
   ],
   "source": [
    "# Pull the unique elements in the num_of_passengers...\n",
    "\n",
    "print(\"Unique: \", combined.num_of_passengers.unique())\n",
    "print(\"Unique_Surge: \", combined.surge_applied.unique())"
   ]
  },
  {
   "cell_type": "code",
   "execution_count": 16,
   "id": "2c01e121",
   "metadata": {},
   "outputs": [
    {
     "data": {
      "text/plain": [
       "<AxesSubplot:xlabel='num_of_passengers', ylabel='count'>"
      ]
     },
     "execution_count": 16,
     "metadata": {},
     "output_type": "execute_result"
    },
    {
     "data": {
      "image/png": "[encoded data removed]",
      "text/plain": [
       "<Figure size 432x288 with 1 Axes>"
      ]
     },
     "metadata": {
      "needs_background": "light"
     },
     "output_type": "display_data"
    }
   ],
   "source": [
    "# no_of_passengers\n",
    "sns.countplot(combined.num_of_passengers)"
   ]
  },
  {
   "cell_type": "code",
   "execution_count": 17,
   "id": "5b35ffc7",
   "metadata": {},
   "outputs": [
    {
     "data": {
      "text/plain": [
       "1.0    256094\n",
       "2.0     25601\n",
       "5.0      6642\n",
       "6.0      4806\n",
       "3.0      3925\n",
       "4.0      1281\n",
       "0.0      1129\n",
       "8.0        39\n",
       "9.0        11\n",
       "7.0         6\n",
       "Name: num_of_passengers, dtype: int64"
      ]
     },
     "execution_count": 17,
     "metadata": {},
     "output_type": "execute_result"
    }
   ],
   "source": [
    "combined.num_of_passengers.value_counts()"
   ]
  },
  {
   "cell_type": "code",
   "execution_count": 18,
   "id": "5f035166",
   "metadata": {},
   "outputs": [
    {
     "data": {
      "text/html": [
       "<div>\n",
       "<style scoped>\n",
       "    .dataframe tbody tr th:only-of-type {\n",
       "        vertical-align: middle;\n",
       "    }\n",
       "\n",
       "    .dataframe tbody tr th {\n",
       "        vertical-align: top;\n",
       "    }\n",
       "\n",
       "    .dataframe thead th {\n",
       "        text-align: right;\n",
       "    }\n",
       "</style>\n",
       "<table border=\"1\" class=\"dataframe\">\n",
       "  <thead>\n",
       "    <tr style=\"text-align: right;\">\n",
       "      <th></th>\n",
       "      <th>trip_duration</th>\n",
       "      <th>distance_traveled</th>\n",
       "      <th>num_of_passengers</th>\n",
       "      <th>fare</th>\n",
       "      <th>tip</th>\n",
       "      <th>miscellaneous_fees</th>\n",
       "      <th>total_fare</th>\n",
       "      <th>surge_applied</th>\n",
       "    </tr>\n",
       "  </thead>\n",
       "  <tbody>\n",
       "    <tr>\n",
       "      <th>17190</th>\n",
       "      <td>56.0</td>\n",
       "      <td>1.29</td>\n",
       "      <td>0.0</td>\n",
       "      <td>0.0</td>\n",
       "      <td>0</td>\n",
       "      <td>0.00</td>\n",
       "      <td>0.00</td>\n",
       "      <td>0</td>\n",
       "    </tr>\n",
       "    <tr>\n",
       "      <th>36846</th>\n",
       "      <td>1600.0</td>\n",
       "      <td>4.18</td>\n",
       "      <td>0.0</td>\n",
       "      <td>0.0</td>\n",
       "      <td>0</td>\n",
       "      <td>0.00</td>\n",
       "      <td>0.00</td>\n",
       "      <td>0</td>\n",
       "    </tr>\n",
       "    <tr>\n",
       "      <th>75581</th>\n",
       "      <td>45.0</td>\n",
       "      <td>0.16</td>\n",
       "      <td>0.0</td>\n",
       "      <td>0.0</td>\n",
       "      <td>0</td>\n",
       "      <td>0.00</td>\n",
       "      <td>0.00</td>\n",
       "      <td>0</td>\n",
       "    </tr>\n",
       "    <tr>\n",
       "      <th>89187</th>\n",
       "      <td>1679.0</td>\n",
       "      <td>9.98</td>\n",
       "      <td>0.0</td>\n",
       "      <td>0.0</td>\n",
       "      <td>0</td>\n",
       "      <td>3.75</td>\n",
       "      <td>3.75</td>\n",
       "      <td>0</td>\n",
       "    </tr>\n",
       "    <tr>\n",
       "      <th>126357</th>\n",
       "      <td>86.0</td>\n",
       "      <td>1.45</td>\n",
       "      <td>0.0</td>\n",
       "      <td>0.0</td>\n",
       "      <td>0</td>\n",
       "      <td>0.00</td>\n",
       "      <td>0.00</td>\n",
       "      <td>0</td>\n",
       "    </tr>\n",
       "    <tr>\n",
       "      <th>157026</th>\n",
       "      <td>1386.0</td>\n",
       "      <td>6.92</td>\n",
       "      <td>0.0</td>\n",
       "      <td>0.0</td>\n",
       "      <td>0</td>\n",
       "      <td>0.00</td>\n",
       "      <td>0.00</td>\n",
       "      <td>0</td>\n",
       "    </tr>\n",
       "    <tr>\n",
       "      <th>169598</th>\n",
       "      <td>78.0</td>\n",
       "      <td>0.64</td>\n",
       "      <td>0.0</td>\n",
       "      <td>0.0</td>\n",
       "      <td>0</td>\n",
       "      <td>0.00</td>\n",
       "      <td>0.00</td>\n",
       "      <td>0</td>\n",
       "    </tr>\n",
       "    <tr>\n",
       "      <th>170282</th>\n",
       "      <td>87.0</td>\n",
       "      <td>11.10</td>\n",
       "      <td>0.0</td>\n",
       "      <td>0.0</td>\n",
       "      <td>0</td>\n",
       "      <td>0.00</td>\n",
       "      <td>0.00</td>\n",
       "      <td>0</td>\n",
       "    </tr>\n",
       "    <tr>\n",
       "      <th>208707</th>\n",
       "      <td>2443.0</td>\n",
       "      <td>6.92</td>\n",
       "      <td>0.0</td>\n",
       "      <td>0.0</td>\n",
       "      <td>0</td>\n",
       "      <td>0.00</td>\n",
       "      <td>0.00</td>\n",
       "      <td>0</td>\n",
       "    </tr>\n",
       "  </tbody>\n",
       "</table>\n",
       "</div>"
      ],
      "text/plain": [
       "        trip_duration  distance_traveled  num_of_passengers  fare  tip  \\\n",
       "17190            56.0               1.29                0.0   0.0    0   \n",
       "36846          1600.0               4.18                0.0   0.0    0   \n",
       "75581            45.0               0.16                0.0   0.0    0   \n",
       "89187          1679.0               9.98                0.0   0.0    0   \n",
       "126357           86.0               1.45                0.0   0.0    0   \n",
       "157026         1386.0               6.92                0.0   0.0    0   \n",
       "169598           78.0               0.64                0.0   0.0    0   \n",
       "170282           87.0              11.10                0.0   0.0    0   \n",
       "208707         2443.0               6.92                0.0   0.0    0   \n",
       "\n",
       "        miscellaneous_fees  total_fare  surge_applied  \n",
       "17190                 0.00        0.00              0  \n",
       "36846                 0.00        0.00              0  \n",
       "75581                 0.00        0.00              0  \n",
       "89187                 3.75        3.75              0  \n",
       "126357                0.00        0.00              0  \n",
       "157026                0.00        0.00              0  \n",
       "169598                0.00        0.00              0  \n",
       "170282                0.00        0.00              0  \n",
       "208707                0.00        0.00              0  "
      ]
     },
     "execution_count": 18,
     "metadata": {},
     "output_type": "execute_result"
    }
   ],
   "source": [
    "# what about fare where the num of passengers is 0\n",
    "train.loc[(train.num_of_passengers==0) & (train.fare==0)]"
   ]
  },
  {
   "cell_type": "code",
   "execution_count": 19,
   "id": "2e9b44ec",
   "metadata": {},
   "outputs": [
    {
     "data": {
      "text/plain": [
       "<AxesSubplot:xlabel='surge_applied', ylabel='count'>"
      ]
     },
     "execution_count": 19,
     "metadata": {},
     "output_type": "execute_result"
    },
    {
     "data": {
      "image/png": "[encoded data removed]",
      "text/plain": [
       "<Figure size 432x288 with 1 Axes>"
      ]
     },
     "metadata": {
      "needs_background": "light"
     },
     "output_type": "display_data"
    }
   ],
   "source": [
    "# Surge \n",
    "sns.countplot(combined.surge_applied)"
   ]
  },
  {
   "cell_type": "code",
   "execution_count": 20,
   "id": "d610a3df",
   "metadata": {},
   "outputs": [
    {
     "data": {
      "image/png": "[encoded data removed]",
      "text/plain": [
       "<Figure size 720x576 with 6 Axes>"
      ]
     },
     "metadata": {
      "needs_background": "light"
     },
     "output_type": "display_data"
    }
   ],
   "source": [
    "# Lets find the Outliers in the Data\n",
    "\n",
    "# num_vars - distplot\n",
    "\n",
    "nrows = 3 # number of rows for the plot area\n",
    "ncols = 2 # no of cols for the plot area...\n",
    "iterator =1 # to initiate the plots using loop. Default Counter is 1...\n",
    "\n",
    "plt.figure(figsize = (10, 8))\n",
    "for i in num_vars:\n",
    "    plt.subplot(nrows, ncols, iterator) # plot dimensions\n",
    "    sns.boxplot(combined.loc[:, i])\n",
    "    iterator = iterator+1\n",
    "\n",
    "plt.tight_layout()\n",
    "plt.show()"
   ]
  },
  {
   "cell_type": "markdown",
   "id": "a879ee48",
   "metadata": {},
   "source": [
    "### Bivariate Analysis\n",
    "\n",
    "* Num vs Num - Scatterplot\n",
    "* Cat vs Num - Boxplot/Violinplot/barplot"
   ]
  },
  {
   "cell_type": "code",
   "execution_count": 21,
   "id": "53d77128",
   "metadata": {},
   "outputs": [
    {
     "data": {
      "image/png": "[encoded data removed]",
      "text/plain": [
       "<Figure size 720x576 with 6 Axes>"
      ]
     },
     "metadata": {
      "needs_background": "light"
     },
     "output_type": "display_data"
    }
   ],
   "source": [
    "# Bivariate:: Num vs Num\n",
    "\n",
    "nrows = 3 # number of rows for the plot area\n",
    "ncols = 2 # no of cols for the plot area...\n",
    "iterator =1 # to initiate the plots using loop. Default Counter is 1...\n",
    "\n",
    "plt.figure(figsize = (10, 8))\n",
    "for i in num_vars:\n",
    "    plt.subplot(nrows, ncols, iterator) # plot dimensions\n",
    "    sns.scatterplot(train.loc[:, i], train.total_fare)\n",
    "    iterator = iterator+1\n",
    "\n",
    "plt.tight_layout()\n",
    "plt.show()"
   ]
  },
  {
   "cell_type": "code",
   "execution_count": 22,
   "id": "aaa03b7f",
   "metadata": {},
   "outputs": [
    {
     "data": {
      "text/plain": [
       "<AxesSubplot:xlabel='num_of_passengers', ylabel='fare'>"
      ]
     },
     "execution_count": 22,
     "metadata": {},
     "output_type": "execute_result"
    },
    {
     "data": {
      "image/png": "[encoded data removed]",
      "text/plain": [
       "<Figure size 432x288 with 1 Axes>"
      ]
     },
     "metadata": {
      "needs_background": "light"
     },
     "output_type": "display_data"
    }
   ],
   "source": [
    "# Boxplot for Cat vs Num\n",
    "\n",
    "sns.boxplot(x = \"num_of_passengers\", y = \"fare\", data =train)"
   ]
  },
  {
   "cell_type": "code",
   "execution_count": 23,
   "id": "e5637a2c",
   "metadata": {},
   "outputs": [
    {
     "data": {
      "image/png": "[encoded data removed]",
      "text/plain": [
       "<Figure size 432x288 with 1 Axes>"
      ]
     },
     "metadata": {
      "needs_background": "light"
     },
     "output_type": "display_data"
    }
   ],
   "source": [
    "# Surge vs Total Fare\n",
    "sns.boxplot(x = \"surge_applied\", y = \"total_fare\", data = train)\n",
    "plt.show()"
   ]
  },
  {
   "cell_type": "code",
   "execution_count": 24,
   "id": "b49a78b3",
   "metadata": {},
   "outputs": [
    {
     "data": {
      "image/png": "[encoded data removed]",
      "text/plain": [
       "<Figure size 720x432 with 2 Axes>"
      ]
     },
     "metadata": {
      "needs_background": "light"
     },
     "output_type": "display_data"
    }
   ],
   "source": [
    "# Correlation Plot\n",
    "\n",
    "plt.figure(figsize = (10, 6))\n",
    "sns.heatmap(train.loc[:, num_vars].corr(), annot = True, cmap = \"afmhot_r\")\n",
    "plt.show()"
   ]
  },
  {
   "cell_type": "markdown",
   "id": "f6620b9c",
   "metadata": {},
   "source": [
    "#### Inference of Correlation Heatmap\n",
    "* We notice that there is not strong correlation between the predictors and the target...\n",
    "* Fare has very weak correlation with distance travelled and the trip duration..."
   ]
  },
  {
   "cell_type": "code",
   "execution_count": 25,
   "id": "99487b83",
   "metadata": {},
   "outputs": [
    {
     "data": {
      "text/plain": [
       "trip_duration         0\n",
       "distance_traveled     0\n",
       "num_of_passengers     0\n",
       "fare                  0\n",
       "tip                   0\n",
       "miscellaneous_fees    0\n",
       "total_fare            0\n",
       "surge_applied         0\n",
       "dtype: int64"
      ]
     },
     "execution_count": 25,
     "metadata": {},
     "output_type": "execute_result"
    }
   ],
   "source": [
    "# Missing Values in the Data\n",
    "combined.isnull().sum()"
   ]
  },
  {
   "cell_type": "markdown",
   "id": "144b6639",
   "metadata": {},
   "source": [
    "### Outlier Removal\n",
    "\n",
    "* Boxplot IQR technique and check the correlation\n",
    "* Winsorization & Check the Correlation\n",
    "\n",
    "Note: The Boxplot method is applied only on Train Dataset wherein the Winsorization can be applied on Train & test Combined."
   ]
  },
  {
   "cell_type": "code",
   "execution_count": 26,
   "id": "a9b11609",
   "metadata": {},
   "outputs": [],
   "source": [
    "# IQR method\n",
    "q1 = train.quantile(0.25)\n",
    "q3 = train.quantile(0.75)\n",
    "iqr = q3 - q1\n",
    "\n",
    "upper_lim = q3+1.5*iqr\n",
    "lower_lim = q1-1.5*iqr"
   ]
  },
  {
   "cell_type": "code",
   "execution_count": 27,
   "id": "0fe1085d",
   "metadata": {},
   "outputs": [],
   "source": [
    "# Remove the Outliers from the data....\n",
    "wt_outliers = \\\n",
    "train.loc[~((train<lower_lim)|(train>upper_lim)).any(axis = 1)]"
   ]
  },
  {
   "cell_type": "code",
   "execution_count": 28,
   "id": "672e24ec",
   "metadata": {},
   "outputs": [
    {
     "data": {
      "text/plain": [
       "50835"
      ]
     },
     "execution_count": 28,
     "metadata": {},
     "output_type": "execute_result"
    }
   ],
   "source": [
    "train.shape[0]-158838 # Machine learns pattern from the training set."
   ]
  },
  {
   "cell_type": "code",
   "execution_count": 29,
   "id": "5938f7b5",
   "metadata": {},
   "outputs": [
    {
     "data": {
      "text/plain": [
       "(89861, 8)"
      ]
     },
     "execution_count": 29,
     "metadata": {},
     "output_type": "execute_result"
    }
   ],
   "source": [
    "test.shape # Machine will test its learning on the test set..."
   ]
  },
  {
   "cell_type": "code",
   "execution_count": 30,
   "id": "d006e3b3",
   "metadata": {},
   "outputs": [
    {
     "data": {
      "image/png": "[encoded data removed]",
      "text/plain": [
       "<Figure size 720x432 with 2 Axes>"
      ]
     },
     "metadata": {
      "needs_background": "light"
     },
     "output_type": "display_data"
    }
   ],
   "source": [
    "# Check the Correlation for the new data ~ wt_outlier\n",
    "\n",
    "plt.figure(figsize = (10, 6))\n",
    "sns.heatmap(wt_outliers.corr(), \n",
    "            annot = True, cmap = \"afmhot_r\")\n",
    "plt.show()"
   ]
  },
  {
   "cell_type": "markdown",
   "id": "339531f9",
   "metadata": {},
   "source": [
    "`New Lesson: If the data has lots of outliers and the correlation is very weak with the target. One must remove the Outliers because it might improve the Correlation with the target massively.`"
   ]
  },
  {
   "cell_type": "markdown",
   "id": "ad2bd073",
   "metadata": {},
   "source": [
    "### Winsorization \n",
    "\n",
    "* It is a concept where the we cap the values. Capping the values means that the Outliers will be capped/maxed out to let say 0.95. It looks like trimming of the data from top and bottom selectively."
   ]
  },
  {
   "cell_type": "code",
   "execution_count": 31,
   "id": "a8eef34c",
   "metadata": {},
   "outputs": [],
   "source": [
    "# Apply Winsorization\n",
    "from scipy.stats.mstats import winsorize # input array, limit percent for cutting the data\n",
    "\n",
    "new = combined.copy()\n",
    "for i in new.columns:\n",
    "    # Capping the Data to 99%.\n",
    "    winsorized_data = winsorize(a = new.loc[:, i], limits=(0.01, 0.01))\n",
    "    new[i+\"_winsorized\"] = winsorized_data"
   ]
  },
  {
   "cell_type": "code",
   "execution_count": 32,
   "id": "7b73a9b1",
   "metadata": {},
   "outputs": [
    {
     "data": {
      "text/plain": [
       "Index(['trip_duration', 'distance_traveled', 'num_of_passengers', 'fare',\n",
       "       'tip', 'miscellaneous_fees', 'total_fare', 'surge_applied',\n",
       "       'trip_duration_winsorized', 'distance_traveled_winsorized',\n",
       "       'num_of_passengers_winsorized', 'fare_winsorized', 'tip_winsorized',\n",
       "       'miscellaneous_fees_winsorized', 'total_fare_winsorized',\n",
       "       'surge_applied_winsorized'],\n",
       "      dtype='object')"
      ]
     },
     "execution_count": 32,
     "metadata": {},
     "output_type": "execute_result"
    }
   ],
   "source": [
    "new.columns"
   ]
  },
  {
   "cell_type": "code",
   "execution_count": 33,
   "id": "708eaa32",
   "metadata": {},
   "outputs": [
    {
     "data": {
      "image/png": "[encoded data removed]",
      "text/plain": [
       "<Figure size 720x432 with 2 Axes>"
      ]
     },
     "metadata": {
      "needs_background": "light"
     },
     "output_type": "display_data"
    }
   ],
   "source": [
    "# Winsorized Data - Heatmap\n",
    "plt.figure(figsize = (10, 6))\n",
    "sns.heatmap(new.loc[:, ['trip_duration_winsorized', 'distance_traveled_winsorized',\n",
    "                        'fare_winsorized', 'tip_winsorized',\n",
    "                        'miscellaneous_fees_winsorized', 'total_fare_winsorized',\n",
    "                       'num_of_passengers_winsorized']].\\\n",
    "            corr(), annot = True, cmap = \"afmhot_r\")\n",
    "plt.show()"
   ]
  },
  {
   "cell_type": "markdown",
   "id": "3459e217",
   "metadata": {},
   "source": [
    "### Summary of the Findings - IQR vs Winsorization\n",
    "\n",
    "* We clearly see that the IQR method win hands down because although we lost some percentage of data in IQR approach however, we see that the correlation has massively improved.\n",
    "\n",
    "* On the other hand, by limiting the data to 99% in winsorization technique, we see that the correlation has improved decently.\n",
    "\n",
    "Therefore, we will be using `wt_outliers` data instead of **new** dataset created in the latter code.\n",
    "\n",
    "### Feature Engineering"
   ]
  },
  {
   "cell_type": "code",
   "execution_count": 34,
   "id": "e8fa6fc0",
   "metadata": {},
   "outputs": [
    {
     "data": {
      "text/html": [
       "<div>\n",
       "<style scoped>\n",
       "    .dataframe tbody tr th:only-of-type {\n",
       "        vertical-align: middle;\n",
       "    }\n",
       "\n",
       "    .dataframe tbody tr th {\n",
       "        vertical-align: top;\n",
       "    }\n",
       "\n",
       "    .dataframe thead th {\n",
       "        text-align: right;\n",
       "    }\n",
       "</style>\n",
       "<table border=\"1\" class=\"dataframe\">\n",
       "  <thead>\n",
       "    <tr style=\"text-align: right;\">\n",
       "      <th></th>\n",
       "      <th>trip_duration</th>\n",
       "      <th>distance_traveled</th>\n",
       "      <th>num_of_passengers</th>\n",
       "      <th>fare</th>\n",
       "      <th>tip</th>\n",
       "      <th>miscellaneous_fees</th>\n",
       "      <th>total_fare</th>\n",
       "      <th>surge_applied</th>\n",
       "    </tr>\n",
       "  </thead>\n",
       "  <tbody>\n",
       "    <tr>\n",
       "      <th>0</th>\n",
       "      <td>748.0</td>\n",
       "      <td>2.75</td>\n",
       "      <td>1.0</td>\n",
       "      <td>75.00</td>\n",
       "      <td>24</td>\n",
       "      <td>6.300</td>\n",
       "      <td>105.300</td>\n",
       "      <td>0</td>\n",
       "    </tr>\n",
       "    <tr>\n",
       "      <th>1</th>\n",
       "      <td>1187.0</td>\n",
       "      <td>3.43</td>\n",
       "      <td>1.0</td>\n",
       "      <td>105.00</td>\n",
       "      <td>24</td>\n",
       "      <td>13.200</td>\n",
       "      <td>142.200</td>\n",
       "      <td>0</td>\n",
       "    </tr>\n",
       "    <tr>\n",
       "      <th>2</th>\n",
       "      <td>730.0</td>\n",
       "      <td>3.12</td>\n",
       "      <td>1.0</td>\n",
       "      <td>71.25</td>\n",
       "      <td>0</td>\n",
       "      <td>26.625</td>\n",
       "      <td>97.875</td>\n",
       "      <td>1</td>\n",
       "    </tr>\n",
       "    <tr>\n",
       "      <th>4</th>\n",
       "      <td>329.0</td>\n",
       "      <td>2.09</td>\n",
       "      <td>1.0</td>\n",
       "      <td>45.00</td>\n",
       "      <td>12</td>\n",
       "      <td>13.200</td>\n",
       "      <td>70.200</td>\n",
       "      <td>0</td>\n",
       "    </tr>\n",
       "    <tr>\n",
       "      <th>5</th>\n",
       "      <td>355.0</td>\n",
       "      <td>1.74</td>\n",
       "      <td>1.0</td>\n",
       "      <td>45.00</td>\n",
       "      <td>0</td>\n",
       "      <td>26.625</td>\n",
       "      <td>71.625</td>\n",
       "      <td>1</td>\n",
       "    </tr>\n",
       "  </tbody>\n",
       "</table>\n",
       "</div>"
      ],
      "text/plain": [
       "   trip_duration  distance_traveled  num_of_passengers    fare  tip  \\\n",
       "0          748.0               2.75                1.0   75.00   24   \n",
       "1         1187.0               3.43                1.0  105.00   24   \n",
       "2          730.0               3.12                1.0   71.25    0   \n",
       "4          329.0               2.09                1.0   45.00   12   \n",
       "5          355.0               1.74                1.0   45.00    0   \n",
       "\n",
       "   miscellaneous_fees  total_fare  surge_applied  \n",
       "0               6.300     105.300              0  \n",
       "1              13.200     142.200              0  \n",
       "2              26.625      97.875              1  \n",
       "4              13.200      70.200              0  \n",
       "5              26.625      71.625              1  "
      ]
     },
     "execution_count": 34,
     "metadata": {},
     "output_type": "execute_result"
    }
   ],
   "source": [
    "wt_outliers.head()"
   ]
  },
  {
   "cell_type": "code",
   "execution_count": 35,
   "id": "8429b99b",
   "metadata": {},
   "outputs": [],
   "source": [
    "# Trip Duration/3600 ~ hours\n",
    "wt_outliers[\"trip_hours\"] = wt_outliers[\"trip_duration\"]/3600\n",
    "test[\"trip_hours\"] = test[\"trip_duration\"]/3600"
   ]
  },
  {
   "cell_type": "code",
   "execution_count": 36,
   "id": "fb1bba3b",
   "metadata": {},
   "outputs": [],
   "source": [
    "# Drop the Num of Passengers and Passenger Cat from wt_outliers and test set\n",
    "\n",
    "wt_outliers.drop(\"num_of_passengers\", axis = 1, inplace = True)\n",
    "test.drop(\"num_of_passengers\", axis = 1, inplace = True)"
   ]
  },
  {
   "cell_type": "code",
   "execution_count": 37,
   "id": "663b69e3",
   "metadata": {},
   "outputs": [
    {
     "data": {
      "text/html": [
       "<div>\n",
       "<style scoped>\n",
       "    .dataframe tbody tr th:only-of-type {\n",
       "        vertical-align: middle;\n",
       "    }\n",
       "\n",
       "    .dataframe tbody tr th {\n",
       "        vertical-align: top;\n",
       "    }\n",
       "\n",
       "    .dataframe thead th {\n",
       "        text-align: right;\n",
       "    }\n",
       "</style>\n",
       "<table border=\"1\" class=\"dataframe\">\n",
       "  <thead>\n",
       "    <tr style=\"text-align: right;\">\n",
       "      <th></th>\n",
       "      <th>trip_duration</th>\n",
       "      <th>distance_traveled</th>\n",
       "      <th>fare</th>\n",
       "      <th>tip</th>\n",
       "      <th>miscellaneous_fees</th>\n",
       "      <th>total_fare</th>\n",
       "      <th>surge_applied</th>\n",
       "      <th>trip_hours</th>\n",
       "    </tr>\n",
       "  </thead>\n",
       "  <tbody>\n",
       "    <tr>\n",
       "      <th>0</th>\n",
       "      <td>748.0</td>\n",
       "      <td>2.75</td>\n",
       "      <td>75.00</td>\n",
       "      <td>24</td>\n",
       "      <td>6.300</td>\n",
       "      <td>105.300</td>\n",
       "      <td>0</td>\n",
       "      <td>0.207778</td>\n",
       "    </tr>\n",
       "    <tr>\n",
       "      <th>1</th>\n",
       "      <td>1187.0</td>\n",
       "      <td>3.43</td>\n",
       "      <td>105.00</td>\n",
       "      <td>24</td>\n",
       "      <td>13.200</td>\n",
       "      <td>142.200</td>\n",
       "      <td>0</td>\n",
       "      <td>0.329722</td>\n",
       "    </tr>\n",
       "    <tr>\n",
       "      <th>2</th>\n",
       "      <td>730.0</td>\n",
       "      <td>3.12</td>\n",
       "      <td>71.25</td>\n",
       "      <td>0</td>\n",
       "      <td>26.625</td>\n",
       "      <td>97.875</td>\n",
       "      <td>1</td>\n",
       "      <td>0.202778</td>\n",
       "    </tr>\n",
       "    <tr>\n",
       "      <th>4</th>\n",
       "      <td>329.0</td>\n",
       "      <td>2.09</td>\n",
       "      <td>45.00</td>\n",
       "      <td>12</td>\n",
       "      <td>13.200</td>\n",
       "      <td>70.200</td>\n",
       "      <td>0</td>\n",
       "      <td>0.091389</td>\n",
       "    </tr>\n",
       "    <tr>\n",
       "      <th>5</th>\n",
       "      <td>355.0</td>\n",
       "      <td>1.74</td>\n",
       "      <td>45.00</td>\n",
       "      <td>0</td>\n",
       "      <td>26.625</td>\n",
       "      <td>71.625</td>\n",
       "      <td>1</td>\n",
       "      <td>0.098611</td>\n",
       "    </tr>\n",
       "  </tbody>\n",
       "</table>\n",
       "</div>"
      ],
      "text/plain": [
       "   trip_duration  distance_traveled    fare  tip  miscellaneous_fees  \\\n",
       "0          748.0               2.75   75.00   24               6.300   \n",
       "1         1187.0               3.43  105.00   24              13.200   \n",
       "2          730.0               3.12   71.25    0              26.625   \n",
       "4          329.0               2.09   45.00   12              13.200   \n",
       "5          355.0               1.74   45.00    0              26.625   \n",
       "\n",
       "   total_fare  surge_applied  trip_hours  \n",
       "0     105.300              0    0.207778  \n",
       "1     142.200              0    0.329722  \n",
       "2      97.875              1    0.202778  \n",
       "4      70.200              0    0.091389  \n",
       "5      71.625              1    0.098611  "
      ]
     },
     "execution_count": 37,
     "metadata": {},
     "output_type": "execute_result"
    }
   ],
   "source": [
    "wt_outliers.head()"
   ]
  },
  {
   "cell_type": "code",
   "execution_count": 38,
   "id": "5fc28af1",
   "metadata": {},
   "outputs": [],
   "source": [
    "## Tip - where the tip is 0, we can create a dummy variable - Tip and No Tip\n",
    "\n",
    "def tipping(x):\n",
    "    if x==0:\n",
    "        return(\"No_Tip\")\n",
    "    else:\n",
    "        return(\"Tip\")"
   ]
  },
  {
   "cell_type": "code",
   "execution_count": 39,
   "id": "f30d50a2",
   "metadata": {},
   "outputs": [],
   "source": [
    "wt_outliers[\"tip_cat\"] = wt_outliers.tip.apply(tipping)"
   ]
  },
  {
   "cell_type": "code",
   "execution_count": 40,
   "id": "4285e35b",
   "metadata": {},
   "outputs": [],
   "source": [
    "test[\"tip_cat\"] = test.tip.apply(tipping)"
   ]
  },
  {
   "cell_type": "code",
   "execution_count": 41,
   "id": "f67e8c91",
   "metadata": {},
   "outputs": [
    {
     "data": {
      "text/html": [
       "<div>\n",
       "<style scoped>\n",
       "    .dataframe tbody tr th:only-of-type {\n",
       "        vertical-align: middle;\n",
       "    }\n",
       "\n",
       "    .dataframe tbody tr th {\n",
       "        vertical-align: top;\n",
       "    }\n",
       "\n",
       "    .dataframe thead th {\n",
       "        text-align: right;\n",
       "    }\n",
       "</style>\n",
       "<table border=\"1\" class=\"dataframe\">\n",
       "  <thead>\n",
       "    <tr style=\"text-align: right;\">\n",
       "      <th></th>\n",
       "      <th>count</th>\n",
       "      <th>mean</th>\n",
       "      <th>std</th>\n",
       "      <th>min</th>\n",
       "      <th>25%</th>\n",
       "      <th>50%</th>\n",
       "      <th>75%</th>\n",
       "      <th>max</th>\n",
       "    </tr>\n",
       "    <tr>\n",
       "      <th>tip_cat</th>\n",
       "      <th></th>\n",
       "      <th></th>\n",
       "      <th></th>\n",
       "      <th></th>\n",
       "      <th></th>\n",
       "      <th></th>\n",
       "      <th></th>\n",
       "      <th></th>\n",
       "    </tr>\n",
       "  </thead>\n",
       "  <tbody>\n",
       "    <tr>\n",
       "      <th>No_Tip</th>\n",
       "      <td>69949.0</td>\n",
       "      <td>75.781087</td>\n",
       "      <td>36.554899</td>\n",
       "      <td>0.0</td>\n",
       "      <td>48.75</td>\n",
       "      <td>67.5</td>\n",
       "      <td>97.50</td>\n",
       "      <td>210.0</td>\n",
       "    </tr>\n",
       "    <tr>\n",
       "      <th>Tip</th>\n",
       "      <td>88889.0</td>\n",
       "      <td>80.557617</td>\n",
       "      <td>34.939973</td>\n",
       "      <td>0.0</td>\n",
       "      <td>52.50</td>\n",
       "      <td>75.0</td>\n",
       "      <td>101.25</td>\n",
       "      <td>210.0</td>\n",
       "    </tr>\n",
       "  </tbody>\n",
       "</table>\n",
       "</div>"
      ],
      "text/plain": [
       "           count       mean        std  min    25%   50%     75%    max\n",
       "tip_cat                                                                \n",
       "No_Tip   69949.0  75.781087  36.554899  0.0  48.75  67.5   97.50  210.0\n",
       "Tip      88889.0  80.557617  34.939973  0.0  52.50  75.0  101.25  210.0"
      ]
     },
     "execution_count": 41,
     "metadata": {},
     "output_type": "execute_result"
    }
   ],
   "source": [
    "wt_outliers.groupby(\"tip_cat\")[\"fare\"].describe()"
   ]
  },
  {
   "cell_type": "code",
   "execution_count": 42,
   "id": "c55e0959",
   "metadata": {
    "scrolled": true
   },
   "outputs": [
    {
     "data": {
      "text/html": [
       "<div>\n",
       "<style scoped>\n",
       "    .dataframe tbody tr th:only-of-type {\n",
       "        vertical-align: middle;\n",
       "    }\n",
       "\n",
       "    .dataframe tbody tr th {\n",
       "        vertical-align: top;\n",
       "    }\n",
       "\n",
       "    .dataframe thead th {\n",
       "        text-align: right;\n",
       "    }\n",
       "</style>\n",
       "<table border=\"1\" class=\"dataframe\">\n",
       "  <thead>\n",
       "    <tr style=\"text-align: right;\">\n",
       "      <th></th>\n",
       "      <th>trip_duration</th>\n",
       "      <th>distance_traveled</th>\n",
       "      <th>fare</th>\n",
       "      <th>tip</th>\n",
       "      <th>miscellaneous_fees</th>\n",
       "      <th>total_fare</th>\n",
       "      <th>surge_applied</th>\n",
       "      <th>trip_hours</th>\n",
       "      <th>tip_cat</th>\n",
       "    </tr>\n",
       "  </thead>\n",
       "  <tbody>\n",
       "    <tr>\n",
       "      <th>0</th>\n",
       "      <td>748.0</td>\n",
       "      <td>2.75</td>\n",
       "      <td>75.00</td>\n",
       "      <td>24</td>\n",
       "      <td>6.300</td>\n",
       "      <td>105.300</td>\n",
       "      <td>0</td>\n",
       "      <td>0.207778</td>\n",
       "      <td>Tip</td>\n",
       "    </tr>\n",
       "    <tr>\n",
       "      <th>1</th>\n",
       "      <td>1187.0</td>\n",
       "      <td>3.43</td>\n",
       "      <td>105.00</td>\n",
       "      <td>24</td>\n",
       "      <td>13.200</td>\n",
       "      <td>142.200</td>\n",
       "      <td>0</td>\n",
       "      <td>0.329722</td>\n",
       "      <td>Tip</td>\n",
       "    </tr>\n",
       "    <tr>\n",
       "      <th>2</th>\n",
       "      <td>730.0</td>\n",
       "      <td>3.12</td>\n",
       "      <td>71.25</td>\n",
       "      <td>0</td>\n",
       "      <td>26.625</td>\n",
       "      <td>97.875</td>\n",
       "      <td>1</td>\n",
       "      <td>0.202778</td>\n",
       "      <td>No_Tip</td>\n",
       "    </tr>\n",
       "    <tr>\n",
       "      <th>4</th>\n",
       "      <td>329.0</td>\n",
       "      <td>2.09</td>\n",
       "      <td>45.00</td>\n",
       "      <td>12</td>\n",
       "      <td>13.200</td>\n",
       "      <td>70.200</td>\n",
       "      <td>0</td>\n",
       "      <td>0.091389</td>\n",
       "      <td>Tip</td>\n",
       "    </tr>\n",
       "    <tr>\n",
       "      <th>5</th>\n",
       "      <td>355.0</td>\n",
       "      <td>1.74</td>\n",
       "      <td>45.00</td>\n",
       "      <td>0</td>\n",
       "      <td>26.625</td>\n",
       "      <td>71.625</td>\n",
       "      <td>1</td>\n",
       "      <td>0.098611</td>\n",
       "      <td>No_Tip</td>\n",
       "    </tr>\n",
       "  </tbody>\n",
       "</table>\n",
       "</div>"
      ],
      "text/plain": [
       "   trip_duration  distance_traveled    fare  tip  miscellaneous_fees  \\\n",
       "0          748.0               2.75   75.00   24               6.300   \n",
       "1         1187.0               3.43  105.00   24              13.200   \n",
       "2          730.0               3.12   71.25    0              26.625   \n",
       "4          329.0               2.09   45.00   12              13.200   \n",
       "5          355.0               1.74   45.00    0              26.625   \n",
       "\n",
       "   total_fare  surge_applied  trip_hours tip_cat  \n",
       "0     105.300              0    0.207778     Tip  \n",
       "1     142.200              0    0.329722     Tip  \n",
       "2      97.875              1    0.202778  No_Tip  \n",
       "4      70.200              0    0.091389     Tip  \n",
       "5      71.625              1    0.098611  No_Tip  "
      ]
     },
     "execution_count": 42,
     "metadata": {},
     "output_type": "execute_result"
    }
   ],
   "source": [
    "wt_outliers.head()"
   ]
  },
  {
   "cell_type": "code",
   "execution_count": 43,
   "id": "2d2b7053",
   "metadata": {},
   "outputs": [],
   "source": [
    "# median of tip and misc fee\n",
    "wt_outliers[\"travel_cost\"] = wt_outliers.loc[:, [\"tip\", \"miscellaneous_fees\"]].median(axis=1)\n",
    "\n",
    "test[\"travel_cost\"] = test.loc[:, [\"tip\", \"miscellaneous_fees\"]].median(axis = 1)"
   ]
  },
  {
   "cell_type": "code",
   "execution_count": 44,
   "id": "de576b33",
   "metadata": {},
   "outputs": [],
   "source": [
    "# Travel Cost and Distance Travelled Avg\n",
    "wt_outliers[\"dist_travel_cost\"] = wt_outliers.loc[:, [\"travel_cost\", \"distance_traveled\"]].\\\n",
    "median(axis=1)\n",
    "\n",
    "test[\"dist_travel_cost\"] = test.loc[:, [\"travel_cost\", \"distance_traveled\"]].\\\n",
    "median(axis=1)"
   ]
  },
  {
   "cell_type": "code",
   "execution_count": 45,
   "id": "0c3c9796",
   "metadata": {},
   "outputs": [],
   "source": [
    "# distance travelled * trip_hours\n",
    "wt_outliers[\"magic1\"] = wt_outliers[\"distance_traveled\"]*wt_outliers[\"trip_hours\"]\n",
    "\n",
    "test[\"magic1\"] = test[\"distance_traveled\"]*test[\"trip_hours\"]"
   ]
  },
  {
   "cell_type": "code",
   "execution_count": 46,
   "id": "7439e354",
   "metadata": {
    "scrolled": true
   },
   "outputs": [
    {
     "data": {
      "image/png": "[encoded data removed]",
      "text/plain": [
       "<Figure size 720x432 with 2 Axes>"
      ]
     },
     "metadata": {
      "needs_background": "light"
     },
     "output_type": "display_data"
    }
   ],
   "source": [
    "plt.figure(figsize = (10, 6))\n",
    "sns.heatmap(wt_outliers.corr(), \n",
    "            annot = True, cmap = \"afmhot_r\")\n",
    "plt.show()"
   ]
  },
  {
   "cell_type": "code",
   "execution_count": 47,
   "id": "a5d9a0aa",
   "metadata": {},
   "outputs": [
    {
     "data": {
      "text/plain": [
       "count    158838.000000\n",
       "mean          3.510818\n",
       "std           2.315952\n",
       "min           0.020000\n",
       "25%           1.830000\n",
       "50%           2.900000\n",
       "75%           4.600000\n",
       "max          11.390000\n",
       "Name: distance_traveled, dtype: float64"
      ]
     },
     "execution_count": 47,
     "metadata": {},
     "output_type": "execute_result"
    }
   ],
   "source": [
    "wt_outliers.distance_traveled.describe()\n",
    "\n",
    "# 0-2.5:Vicinity, 2.5-5: Close, 5-7.5: Far, 7.5-10: Distant, > 10: Remote"
   ]
  },
  {
   "cell_type": "code",
   "execution_count": 48,
   "id": "1767281d",
   "metadata": {},
   "outputs": [],
   "source": [
    "def distance(x):\n",
    "    if x<=2.5:\n",
    "        return(\"Vicinity\")\n",
    "    elif x<=5:\n",
    "        return(\"Close\")\n",
    "    elif x<=7.5:\n",
    "        return(\"Far\")\n",
    "    elif x<=10:\n",
    "        return(\"Distant\")\n",
    "    else:\n",
    "        return(\"Remote\")"
   ]
  },
  {
   "cell_type": "code",
   "execution_count": 49,
   "id": "26183b6c",
   "metadata": {},
   "outputs": [],
   "source": [
    "wt_outliers[\"distance_cat\"]= wt_outliers.distance_traveled.apply(distance)"
   ]
  },
  {
   "cell_type": "code",
   "execution_count": 50,
   "id": "709318ac",
   "metadata": {},
   "outputs": [],
   "source": [
    "test[\"distance_cat\"] = test.distance_traveled.apply(distance)"
   ]
  },
  {
   "cell_type": "code",
   "execution_count": 51,
   "id": "303c6f0e",
   "metadata": {},
   "outputs": [
    {
     "data": {
      "text/html": [
       "<div>\n",
       "<style scoped>\n",
       "    .dataframe tbody tr th:only-of-type {\n",
       "        vertical-align: middle;\n",
       "    }\n",
       "\n",
       "    .dataframe tbody tr th {\n",
       "        vertical-align: top;\n",
       "    }\n",
       "\n",
       "    .dataframe thead th {\n",
       "        text-align: right;\n",
       "    }\n",
       "</style>\n",
       "<table border=\"1\" class=\"dataframe\">\n",
       "  <thead>\n",
       "    <tr style=\"text-align: right;\">\n",
       "      <th></th>\n",
       "      <th>trip_duration</th>\n",
       "      <th>distance_traveled</th>\n",
       "      <th>fare</th>\n",
       "      <th>tip</th>\n",
       "      <th>miscellaneous_fees</th>\n",
       "      <th>total_fare</th>\n",
       "      <th>surge_applied</th>\n",
       "      <th>trip_hours</th>\n",
       "      <th>tip_cat</th>\n",
       "      <th>travel_cost</th>\n",
       "      <th>dist_travel_cost</th>\n",
       "      <th>magic1</th>\n",
       "      <th>distance_cat</th>\n",
       "    </tr>\n",
       "  </thead>\n",
       "  <tbody>\n",
       "    <tr>\n",
       "      <th>0</th>\n",
       "      <td>748.0</td>\n",
       "      <td>2.75</td>\n",
       "      <td>75.00</td>\n",
       "      <td>24</td>\n",
       "      <td>6.300</td>\n",
       "      <td>105.300</td>\n",
       "      <td>0</td>\n",
       "      <td>0.207778</td>\n",
       "      <td>Tip</td>\n",
       "      <td>15.1500</td>\n",
       "      <td>8.95000</td>\n",
       "      <td>0.571389</td>\n",
       "      <td>Close</td>\n",
       "    </tr>\n",
       "    <tr>\n",
       "      <th>1</th>\n",
       "      <td>1187.0</td>\n",
       "      <td>3.43</td>\n",
       "      <td>105.00</td>\n",
       "      <td>24</td>\n",
       "      <td>13.200</td>\n",
       "      <td>142.200</td>\n",
       "      <td>0</td>\n",
       "      <td>0.329722</td>\n",
       "      <td>Tip</td>\n",
       "      <td>18.6000</td>\n",
       "      <td>11.01500</td>\n",
       "      <td>1.130947</td>\n",
       "      <td>Close</td>\n",
       "    </tr>\n",
       "    <tr>\n",
       "      <th>2</th>\n",
       "      <td>730.0</td>\n",
       "      <td>3.12</td>\n",
       "      <td>71.25</td>\n",
       "      <td>0</td>\n",
       "      <td>26.625</td>\n",
       "      <td>97.875</td>\n",
       "      <td>1</td>\n",
       "      <td>0.202778</td>\n",
       "      <td>No_Tip</td>\n",
       "      <td>13.3125</td>\n",
       "      <td>8.21625</td>\n",
       "      <td>0.632667</td>\n",
       "      <td>Close</td>\n",
       "    </tr>\n",
       "    <tr>\n",
       "      <th>4</th>\n",
       "      <td>329.0</td>\n",
       "      <td>2.09</td>\n",
       "      <td>45.00</td>\n",
       "      <td>12</td>\n",
       "      <td>13.200</td>\n",
       "      <td>70.200</td>\n",
       "      <td>0</td>\n",
       "      <td>0.091389</td>\n",
       "      <td>Tip</td>\n",
       "      <td>12.6000</td>\n",
       "      <td>7.34500</td>\n",
       "      <td>0.191003</td>\n",
       "      <td>Vicinity</td>\n",
       "    </tr>\n",
       "    <tr>\n",
       "      <th>5</th>\n",
       "      <td>355.0</td>\n",
       "      <td>1.74</td>\n",
       "      <td>45.00</td>\n",
       "      <td>0</td>\n",
       "      <td>26.625</td>\n",
       "      <td>71.625</td>\n",
       "      <td>1</td>\n",
       "      <td>0.098611</td>\n",
       "      <td>No_Tip</td>\n",
       "      <td>13.3125</td>\n",
       "      <td>7.52625</td>\n",
       "      <td>0.171583</td>\n",
       "      <td>Vicinity</td>\n",
       "    </tr>\n",
       "  </tbody>\n",
       "</table>\n",
       "</div>"
      ],
      "text/plain": [
       "   trip_duration  distance_traveled    fare  tip  miscellaneous_fees  \\\n",
       "0          748.0               2.75   75.00   24               6.300   \n",
       "1         1187.0               3.43  105.00   24              13.200   \n",
       "2          730.0               3.12   71.25    0              26.625   \n",
       "4          329.0               2.09   45.00   12              13.200   \n",
       "5          355.0               1.74   45.00    0              26.625   \n",
       "\n",
       "   total_fare  surge_applied  trip_hours tip_cat  travel_cost  \\\n",
       "0     105.300              0    0.207778     Tip      15.1500   \n",
       "1     142.200              0    0.329722     Tip      18.6000   \n",
       "2      97.875              1    0.202778  No_Tip      13.3125   \n",
       "4      70.200              0    0.091389     Tip      12.6000   \n",
       "5      71.625              1    0.098611  No_Tip      13.3125   \n",
       "\n",
       "   dist_travel_cost    magic1 distance_cat  \n",
       "0           8.95000  0.571389        Close  \n",
       "1          11.01500  1.130947        Close  \n",
       "2           8.21625  0.632667        Close  \n",
       "4           7.34500  0.191003     Vicinity  \n",
       "5           7.52625  0.171583     Vicinity  "
      ]
     },
     "execution_count": 51,
     "metadata": {},
     "output_type": "execute_result"
    }
   ],
   "source": [
    "wt_outliers.head()"
   ]
  },
  {
   "cell_type": "markdown",
   "id": "45c5b802",
   "metadata": {},
   "source": [
    "## Statistical Hypothesis Testing...."
   ]
  },
  {
   "cell_type": "code",
   "execution_count": 52,
   "id": "aebd585d",
   "metadata": {},
   "outputs": [
    {
     "data": {
      "text/plain": [
       "Index(['trip_duration', 'distance_traveled', 'fare', 'tip',\n",
       "       'miscellaneous_fees', 'total_fare', 'surge_applied', 'trip_hours',\n",
       "       'travel_cost', 'dist_travel_cost', 'magic1'],\n",
       "      dtype='object')"
      ]
     },
     "execution_count": 52,
     "metadata": {},
     "output_type": "execute_result"
    }
   ],
   "source": [
    "wt_outliers.select_dtypes(include = np.number).columns"
   ]
  },
  {
   "cell_type": "code",
   "execution_count": 53,
   "id": "acc86c66",
   "metadata": {},
   "outputs": [],
   "source": [
    "num_vars = ['trip_duration', 'distance_traveled',  'tip',\n",
    "       'miscellaneous_fees', 'total_fare', 'trip_hours',\n",
    "       'travel_cost', 'dist_travel_cost', 'magic1']"
   ]
  },
  {
   "cell_type": "code",
   "execution_count": 54,
   "id": "7ae39f73",
   "metadata": {},
   "outputs": [
    {
     "name": "stdout",
     "output_type": "stream",
     "text": [
      "PValue for  trip_duration  Var is:  0.0\n",
      "PValue for  distance_traveled  Var is:  0.0\n",
      "PValue for  tip  Var is:  0.0\n",
      "PValue for  miscellaneous_fees  Var is:  0.0\n",
      "PValue for  total_fare  Var is:  0.0\n",
      "PValue for  trip_hours  Var is:  0.0\n",
      "PValue for  travel_cost  Var is:  0.0\n",
      "PValue for  dist_travel_cost  Var is:  0.0\n",
      "PValue for  magic1  Var is:  0.0\n"
     ]
    }
   ],
   "source": [
    "# Ho: That the Predictor(s) var & target var is independent of each other.\n",
    "# This means one does not affect the other. In other words, the predictors \n",
    "# dont contribute in predicting the target variable.\n",
    "\n",
    "# Ha: Ho is False. The predictor is a significant feature for the target.\n",
    "\n",
    "import scipy.stats as stats\n",
    "\n",
    "for i in num_vars:\n",
    "    teststats, pvalue = stats.ttest_ind(wt_outliers.loc[:, i], wt_outliers.fare)\n",
    "    print(\"PValue for \", i, \" Var is: \", np.round(pvalue, 4))    "
   ]
  },
  {
   "cell_type": "markdown",
   "id": "ddc8b902",
   "metadata": {},
   "source": [
    "Since the PValue for each predictor is 0 which is less than 0.05 (alpha). We can say that the features are Significant"
   ]
  },
  {
   "cell_type": "code",
   "execution_count": 55,
   "id": "c27f72d7",
   "metadata": {},
   "outputs": [
    {
     "data": {
      "text/plain": [
       "array(['Tip', 'No_Tip'], dtype=object)"
      ]
     },
     "execution_count": 55,
     "metadata": {},
     "output_type": "execute_result"
    }
   ],
   "source": [
    "# Surge_applied, tip\n",
    "wt_outliers.tip_cat.unique() # Remember that uptil 2 categories, we can apply TTest\n",
    "# But as we see there are > 2 categories, thats where we bring Anova.."
   ]
  },
  {
   "cell_type": "code",
   "execution_count": 56,
   "id": "750f1696",
   "metadata": {},
   "outputs": [
    {
     "data": {
      "text/plain": [
       "Ttest_indResult(statistic=26.501271631925107, pvalue=2.0365892640541604e-154)"
      ]
     },
     "execution_count": 56,
     "metadata": {},
     "output_type": "execute_result"
    }
   ],
   "source": [
    "# Where the Tip==y, fare and Tip==N, fare\n",
    "\n",
    "yes = wt_outliers.loc[wt_outliers.tip_cat==\"Tip\", \"fare\"]\n",
    "no = wt_outliers.loc[wt_outliers.tip_cat==\"No_Tip\", \"fare\"]\n",
    "\n",
    "# Ho: That the Tip_Cat has no relation with the Fare\n",
    "# Ha: Tip_Cat var has a relation with the fare.\n",
    "# It means that tip_Cat contributes in predicting the fare price\n",
    "\n",
    "stats.ttest_ind(yes, no)\n",
    "\n",
    "# Conclusion: Since the PValue is less than 0.05, We Reject the Ho\n",
    "# Meaning Tip_Cat is a significant feature for the Target variable."
   ]
  },
  {
   "cell_type": "code",
   "execution_count": 57,
   "id": "6e712d99",
   "metadata": {},
   "outputs": [
    {
     "data": {
      "text/plain": [
       "Ttest_indResult(statistic=-135.18360882389516, pvalue=0.0)"
      ]
     },
     "execution_count": 57,
     "metadata": {},
     "output_type": "execute_result"
    }
   ],
   "source": [
    "zero = wt_outliers.loc[wt_outliers.surge_applied==0, \"fare\"]\n",
    "one = wt_outliers.loc[wt_outliers.surge_applied==1, \"fare\"]\n",
    "\n",
    "stats.ttest_ind(zero, one)\n",
    "\n",
    "# Conclusion: surge is a significant predictor for the target"
   ]
  },
  {
   "cell_type": "code",
   "execution_count": 58,
   "id": "b5e1a152",
   "metadata": {},
   "outputs": [
    {
     "data": {
      "text/plain": [
       "array(['Close', 'Vicinity', 'Far', 'Distant', 'Remote'], dtype=object)"
      ]
     },
     "execution_count": 58,
     "metadata": {},
     "output_type": "execute_result"
    }
   ],
   "source": [
    "wt_outliers.distance_cat.unique()"
   ]
  },
  {
   "cell_type": "code",
   "execution_count": 59,
   "id": "3ce8e353",
   "metadata": {},
   "outputs": [],
   "source": [
    "# Since it has more than 2 Categories...we apply Anova Test to verify the sig.\n",
    "\n",
    "import statsmodels.formula.api as sfa\n",
    "model = sfa.ols(\"fare~distance_cat\", data = wt_outliers).fit()"
   ]
  },
  {
   "cell_type": "code",
   "execution_count": 60,
   "id": "af92b675",
   "metadata": {},
   "outputs": [
    {
     "data": {
      "text/html": [
       "<div>\n",
       "<style scoped>\n",
       "    .dataframe tbody tr th:only-of-type {\n",
       "        vertical-align: middle;\n",
       "    }\n",
       "\n",
       "    .dataframe tbody tr th {\n",
       "        vertical-align: top;\n",
       "    }\n",
       "\n",
       "    .dataframe thead th {\n",
       "        text-align: right;\n",
       "    }\n",
       "</style>\n",
       "<table border=\"1\" class=\"dataframe\">\n",
       "  <thead>\n",
       "    <tr style=\"text-align: right;\">\n",
       "      <th></th>\n",
       "      <th>df</th>\n",
       "      <th>sum_sq</th>\n",
       "      <th>mean_sq</th>\n",
       "      <th>F</th>\n",
       "      <th>PR(&gt;F)</th>\n",
       "    </tr>\n",
       "  </thead>\n",
       "  <tbody>\n",
       "    <tr>\n",
       "      <th>distance_cat</th>\n",
       "      <td>4.0</td>\n",
       "      <td>1.558616e+08</td>\n",
       "      <td>3.896541e+07</td>\n",
       "      <td>131639.152329</td>\n",
       "      <td>0.0</td>\n",
       "    </tr>\n",
       "    <tr>\n",
       "      <th>Residual</th>\n",
       "      <td>158833.0</td>\n",
       "      <td>4.701484e+07</td>\n",
       "      <td>2.960017e+02</td>\n",
       "      <td>NaN</td>\n",
       "      <td>NaN</td>\n",
       "    </tr>\n",
       "  </tbody>\n",
       "</table>\n",
       "</div>"
      ],
      "text/plain": [
       "                    df        sum_sq       mean_sq              F  PR(>F)\n",
       "distance_cat       4.0  1.558616e+08  3.896541e+07  131639.152329     0.0\n",
       "Residual      158833.0  4.701484e+07  2.960017e+02            NaN     NaN"
      ]
     },
     "execution_count": 60,
     "metadata": {},
     "output_type": "execute_result"
    }
   ],
   "source": [
    "# Anova Table\n",
    "\n",
    "from statsmodels.stats.anova import anova_lm\n",
    "anova_lm(model)\n",
    "\n",
    "# Conclusion: Since the PValue of the F Test is less than alpha\n",
    "# We Reject the Ho meaning the dist_cat is a significant feature for the target."
   ]
  },
  {
   "cell_type": "markdown",
   "id": "0a8a52ec",
   "metadata": {},
   "source": [
    "## One Hot Encoding of Categorical Var"
   ]
  },
  {
   "cell_type": "code",
   "execution_count": 61,
   "id": "41243514",
   "metadata": {},
   "outputs": [],
   "source": [
    "# Converting the cat into numbers\n",
    "\n",
    "dummytrain = pd.get_dummies(wt_outliers, drop_first = True)\n",
    "dummytest= pd.get_dummies(test, drop_first = True)"
   ]
  },
  {
   "cell_type": "code",
   "execution_count": 62,
   "id": "0a0d73ea",
   "metadata": {},
   "outputs": [
    {
     "data": {
      "text/html": [
       "<div>\n",
       "<style scoped>\n",
       "    .dataframe tbody tr th:only-of-type {\n",
       "        vertical-align: middle;\n",
       "    }\n",
       "\n",
       "    .dataframe tbody tr th {\n",
       "        vertical-align: top;\n",
       "    }\n",
       "\n",
       "    .dataframe thead th {\n",
       "        text-align: right;\n",
       "    }\n",
       "</style>\n",
       "<table border=\"1\" class=\"dataframe\">\n",
       "  <thead>\n",
       "    <tr style=\"text-align: right;\">\n",
       "      <th></th>\n",
       "      <th>trip_duration</th>\n",
       "      <th>distance_traveled</th>\n",
       "      <th>fare</th>\n",
       "      <th>tip</th>\n",
       "      <th>miscellaneous_fees</th>\n",
       "      <th>total_fare</th>\n",
       "      <th>surge_applied</th>\n",
       "      <th>trip_hours</th>\n",
       "      <th>travel_cost</th>\n",
       "      <th>dist_travel_cost</th>\n",
       "      <th>magic1</th>\n",
       "      <th>tip_cat_Tip</th>\n",
       "      <th>distance_cat_Distant</th>\n",
       "      <th>distance_cat_Far</th>\n",
       "      <th>distance_cat_Remote</th>\n",
       "      <th>distance_cat_Vicinity</th>\n",
       "    </tr>\n",
       "  </thead>\n",
       "  <tbody>\n",
       "    <tr>\n",
       "      <th>0</th>\n",
       "      <td>1076.0</td>\n",
       "      <td>4.18</td>\n",
       "      <td>0</td>\n",
       "      <td>0</td>\n",
       "      <td>13.500</td>\n",
       "      <td>0</td>\n",
       "      <td>0</td>\n",
       "      <td>0.298889</td>\n",
       "      <td>6.7500</td>\n",
       "      <td>5.46500</td>\n",
       "      <td>1.249356</td>\n",
       "      <td>0</td>\n",
       "      <td>0</td>\n",
       "      <td>0</td>\n",
       "      <td>0</td>\n",
       "      <td>0</td>\n",
       "    </tr>\n",
       "    <tr>\n",
       "      <th>1</th>\n",
       "      <td>429.0</td>\n",
       "      <td>1.48</td>\n",
       "      <td>0</td>\n",
       "      <td>0</td>\n",
       "      <td>13.500</td>\n",
       "      <td>0</td>\n",
       "      <td>0</td>\n",
       "      <td>0.119167</td>\n",
       "      <td>6.7500</td>\n",
       "      <td>4.11500</td>\n",
       "      <td>0.176367</td>\n",
       "      <td>0</td>\n",
       "      <td>0</td>\n",
       "      <td>0</td>\n",
       "      <td>0</td>\n",
       "      <td>1</td>\n",
       "    </tr>\n",
       "    <tr>\n",
       "      <th>2</th>\n",
       "      <td>856.0</td>\n",
       "      <td>4.15</td>\n",
       "      <td>0</td>\n",
       "      <td>24</td>\n",
       "      <td>6.000</td>\n",
       "      <td>0</td>\n",
       "      <td>0</td>\n",
       "      <td>0.237778</td>\n",
       "      <td>15.0000</td>\n",
       "      <td>9.57500</td>\n",
       "      <td>0.986778</td>\n",
       "      <td>1</td>\n",
       "      <td>0</td>\n",
       "      <td>0</td>\n",
       "      <td>0</td>\n",
       "      <td>0</td>\n",
       "    </tr>\n",
       "    <tr>\n",
       "      <th>3</th>\n",
       "      <td>622.0</td>\n",
       "      <td>3.22</td>\n",
       "      <td>0</td>\n",
       "      <td>15</td>\n",
       "      <td>5.625</td>\n",
       "      <td>0</td>\n",
       "      <td>0</td>\n",
       "      <td>0.172778</td>\n",
       "      <td>10.3125</td>\n",
       "      <td>6.76625</td>\n",
       "      <td>0.556344</td>\n",
       "      <td>1</td>\n",
       "      <td>0</td>\n",
       "      <td>0</td>\n",
       "      <td>0</td>\n",
       "      <td>0</td>\n",
       "    </tr>\n",
       "    <tr>\n",
       "      <th>4</th>\n",
       "      <td>507.0</td>\n",
       "      <td>3.98</td>\n",
       "      <td>0</td>\n",
       "      <td>0</td>\n",
       "      <td>2.250</td>\n",
       "      <td>0</td>\n",
       "      <td>0</td>\n",
       "      <td>0.140833</td>\n",
       "      <td>1.1250</td>\n",
       "      <td>2.55250</td>\n",
       "      <td>0.560517</td>\n",
       "      <td>0</td>\n",
       "      <td>0</td>\n",
       "      <td>0</td>\n",
       "      <td>0</td>\n",
       "      <td>0</td>\n",
       "    </tr>\n",
       "  </tbody>\n",
       "</table>\n",
       "</div>"
      ],
      "text/plain": [
       "   trip_duration  distance_traveled  fare  tip  miscellaneous_fees  \\\n",
       "0         1076.0               4.18     0    0              13.500   \n",
       "1          429.0               1.48     0    0              13.500   \n",
       "2          856.0               4.15     0   24               6.000   \n",
       "3          622.0               3.22     0   15               5.625   \n",
       "4          507.0               3.98     0    0               2.250   \n",
       "\n",
       "   total_fare  surge_applied  trip_hours  travel_cost  dist_travel_cost  \\\n",
       "0           0              0    0.298889       6.7500           5.46500   \n",
       "1           0              0    0.119167       6.7500           4.11500   \n",
       "2           0              0    0.237778      15.0000           9.57500   \n",
       "3           0              0    0.172778      10.3125           6.76625   \n",
       "4           0              0    0.140833       1.1250           2.55250   \n",
       "\n",
       "     magic1  tip_cat_Tip  distance_cat_Distant  distance_cat_Far  \\\n",
       "0  1.249356            0                     0                 0   \n",
       "1  0.176367            0                     0                 0   \n",
       "2  0.986778            1                     0                 0   \n",
       "3  0.556344            1                     0                 0   \n",
       "4  0.560517            0                     0                 0   \n",
       "\n",
       "   distance_cat_Remote  distance_cat_Vicinity  \n",
       "0                    0                      0  \n",
       "1                    0                      1  \n",
       "2                    0                      0  \n",
       "3                    0                      0  \n",
       "4                    0                      0  "
      ]
     },
     "execution_count": 62,
     "metadata": {},
     "output_type": "execute_result"
    }
   ],
   "source": [
    "dummytest.head()"
   ]
  },
  {
   "cell_type": "code",
   "execution_count": 63,
   "id": "8df27387",
   "metadata": {},
   "outputs": [],
   "source": [
    "# X and y\n",
    "X = dummytrain.drop(['fare', 'total_fare', 'trip_duration'], axis = 1)\n",
    "y = dummytrain.fare\n",
    "\n",
    "dummytest.drop(['fare', 'total_fare', 'trip_duration'], axis = 1, inplace = True)"
   ]
  },
  {
   "cell_type": "code",
   "execution_count": 64,
   "id": "47fc1bad",
   "metadata": {},
   "outputs": [
    {
     "data": {
      "text/html": [
       "<div>\n",
       "<style scoped>\n",
       "    .dataframe tbody tr th:only-of-type {\n",
       "        vertical-align: middle;\n",
       "    }\n",
       "\n",
       "    .dataframe tbody tr th {\n",
       "        vertical-align: top;\n",
       "    }\n",
       "\n",
       "    .dataframe thead th {\n",
       "        text-align: right;\n",
       "    }\n",
       "</style>\n",
       "<table border=\"1\" class=\"dataframe\">\n",
       "  <thead>\n",
       "    <tr style=\"text-align: right;\">\n",
       "      <th></th>\n",
       "      <th>distance_traveled</th>\n",
       "      <th>tip</th>\n",
       "      <th>miscellaneous_fees</th>\n",
       "      <th>surge_applied</th>\n",
       "      <th>trip_hours</th>\n",
       "      <th>travel_cost</th>\n",
       "      <th>dist_travel_cost</th>\n",
       "      <th>magic1</th>\n",
       "      <th>tip_cat_Tip</th>\n",
       "      <th>distance_cat_Distant</th>\n",
       "      <th>distance_cat_Far</th>\n",
       "      <th>distance_cat_Remote</th>\n",
       "      <th>distance_cat_Vicinity</th>\n",
       "    </tr>\n",
       "  </thead>\n",
       "  <tbody>\n",
       "    <tr>\n",
       "      <th>0</th>\n",
       "      <td>2.75</td>\n",
       "      <td>24</td>\n",
       "      <td>6.300</td>\n",
       "      <td>0</td>\n",
       "      <td>0.207778</td>\n",
       "      <td>15.1500</td>\n",
       "      <td>8.95000</td>\n",
       "      <td>0.571389</td>\n",
       "      <td>1</td>\n",
       "      <td>0</td>\n",
       "      <td>0</td>\n",
       "      <td>0</td>\n",
       "      <td>0</td>\n",
       "    </tr>\n",
       "    <tr>\n",
       "      <th>1</th>\n",
       "      <td>3.43</td>\n",
       "      <td>24</td>\n",
       "      <td>13.200</td>\n",
       "      <td>0</td>\n",
       "      <td>0.329722</td>\n",
       "      <td>18.6000</td>\n",
       "      <td>11.01500</td>\n",
       "      <td>1.130947</td>\n",
       "      <td>1</td>\n",
       "      <td>0</td>\n",
       "      <td>0</td>\n",
       "      <td>0</td>\n",
       "      <td>0</td>\n",
       "    </tr>\n",
       "    <tr>\n",
       "      <th>2</th>\n",
       "      <td>3.12</td>\n",
       "      <td>0</td>\n",
       "      <td>26.625</td>\n",
       "      <td>1</td>\n",
       "      <td>0.202778</td>\n",
       "      <td>13.3125</td>\n",
       "      <td>8.21625</td>\n",
       "      <td>0.632667</td>\n",
       "      <td>0</td>\n",
       "      <td>0</td>\n",
       "      <td>0</td>\n",
       "      <td>0</td>\n",
       "      <td>0</td>\n",
       "    </tr>\n",
       "    <tr>\n",
       "      <th>4</th>\n",
       "      <td>2.09</td>\n",
       "      <td>12</td>\n",
       "      <td>13.200</td>\n",
       "      <td>0</td>\n",
       "      <td>0.091389</td>\n",
       "      <td>12.6000</td>\n",
       "      <td>7.34500</td>\n",
       "      <td>0.191003</td>\n",
       "      <td>1</td>\n",
       "      <td>0</td>\n",
       "      <td>0</td>\n",
       "      <td>0</td>\n",
       "      <td>1</td>\n",
       "    </tr>\n",
       "    <tr>\n",
       "      <th>5</th>\n",
       "      <td>1.74</td>\n",
       "      <td>0</td>\n",
       "      <td>26.625</td>\n",
       "      <td>1</td>\n",
       "      <td>0.098611</td>\n",
       "      <td>13.3125</td>\n",
       "      <td>7.52625</td>\n",
       "      <td>0.171583</td>\n",
       "      <td>0</td>\n",
       "      <td>0</td>\n",
       "      <td>0</td>\n",
       "      <td>0</td>\n",
       "      <td>1</td>\n",
       "    </tr>\n",
       "  </tbody>\n",
       "</table>\n",
       "</div>"
      ],
      "text/plain": [
       "   distance_traveled  tip  miscellaneous_fees  surge_applied  trip_hours  \\\n",
       "0               2.75   24               6.300              0    0.207778   \n",
       "1               3.43   24              13.200              0    0.329722   \n",
       "2               3.12    0              26.625              1    0.202778   \n",
       "4               2.09   12              13.200              0    0.091389   \n",
       "5               1.74    0              26.625              1    0.098611   \n",
       "\n",
       "   travel_cost  dist_travel_cost    magic1  tip_cat_Tip  distance_cat_Distant  \\\n",
       "0      15.1500           8.95000  0.571389            1                     0   \n",
       "1      18.6000          11.01500  1.130947            1                     0   \n",
       "2      13.3125           8.21625  0.632667            0                     0   \n",
       "4      12.6000           7.34500  0.191003            1                     0   \n",
       "5      13.3125           7.52625  0.171583            0                     0   \n",
       "\n",
       "   distance_cat_Far  distance_cat_Remote  distance_cat_Vicinity  \n",
       "0                 0                    0                      0  \n",
       "1                 0                    0                      0  \n",
       "2                 0                    0                      0  \n",
       "4                 0                    0                      1  \n",
       "5                 0                    0                      1  "
      ]
     },
     "execution_count": 64,
     "metadata": {},
     "output_type": "execute_result"
    }
   ],
   "source": [
    "X.head()"
   ]
  },
  {
   "cell_type": "markdown",
   "id": "699e85e3",
   "metadata": {},
   "source": [
    "## Model Building\n",
    "\n",
    "* Base Model - Avg\n",
    "* Linear Regression Model\n",
    "* Random Forest Model\n",
    "* Gradient Boosting\n",
    "* XGboost"
   ]
  },
  {
   "cell_type": "code",
   "execution_count": 65,
   "id": "e57b87a2",
   "metadata": {},
   "outputs": [],
   "source": [
    "# Linear Regression Model\n",
    "from sklearn.linear_model import LinearRegression\n",
    "from sklearn.model_selection import KFold\n",
    "\n",
    "kfold = KFold(n_splits =5, shuffle = True, random_state = 42)\n",
    "lr = LinearRegression()"
   ]
  },
  {
   "cell_type": "code",
   "execution_count": 66,
   "id": "87ea0be2",
   "metadata": {},
   "outputs": [],
   "source": [
    "# 5 CV LR Model\n",
    "\n",
    "pred = [] # all the prediction values will be stored here.\n",
    "\n",
    "for train_index, test_index in kfold.split(X, y): # Splitting the Data in 5 folds\n",
    "    xtrain = X.iloc[train_index] # use iloc for the index numbers\n",
    "    ytrain = y.iloc[train_index] # Do the Direct Prediction on the Dummytest\n",
    "    pred.append(lr.fit(xtrain, ytrain).predict(dummytest))"
   ]
  },
  {
   "cell_type": "code",
   "execution_count": 67,
   "id": "c7f84411",
   "metadata": {},
   "outputs": [],
   "source": [
    "test[\"fare\"] = np.abs(pd.DataFrame(pred).T.mean(axis = 1))"
   ]
  },
  {
   "cell_type": "code",
   "execution_count": 68,
   "id": "8a02ec9a",
   "metadata": {},
   "outputs": [],
   "source": [
    "# Final var\n",
    "total_fare = test[\"fare\"]+test[\"tip\"]+test[\"miscellaneous_fees\"]\n",
    "\n",
    "# Submission File\n",
    "submission = pd.DataFrame({'total_fare':total_fare})"
   ]
  },
  {
   "cell_type": "code",
   "execution_count": 69,
   "id": "0dacf9ae",
   "metadata": {},
   "outputs": [],
   "source": [
    "# Export it outside\n",
    "submission.to_csv(\"LRModel.csv\", index = False) # RMSLE: 0.29"
   ]
  },
  {
   "cell_type": "code",
   "execution_count": 70,
   "id": "5d5066d0",
   "metadata": {},
   "outputs": [
    {
     "name": "stdout",
     "output_type": "stream",
     "text": [
      "C:\\Users\\Asus\n"
     ]
    }
   ],
   "source": [
    "cd"
   ]
  },
  {
   "cell_type": "code",
   "execution_count": 71,
   "id": "f3a579d8",
   "metadata": {},
   "outputs": [],
   "source": [
    "# Random Forest Model\n",
    "from sklearn.ensemble import RandomForestRegressor, GradientBoostingRegressor\n",
    "rf = RandomForestRegressor()\n",
    "\n",
    "pred_rf = []\n",
    "for train_index, test_index in kfold.split(X, y):\n",
    "    xtrain = X.iloc[train_index]\n",
    "    ytrain = y.iloc[train_index]\n",
    "    pred_rf.append(rf.fit(xtrain,ytrain).predict(dummytest))"
   ]
  },
  {
   "cell_type": "code",
   "execution_count": 72,
   "id": "c3f26d40",
   "metadata": {},
   "outputs": [],
   "source": [
    "# GBM\n",
    "gbm = GradientBoostingRegressor()\n",
    "\n",
    "pred_gbm = []\n",
    "for train_index, test_index in kfold.split(X, y):\n",
    "    xtrain = X.iloc[train_index]\n",
    "    ytrain = y.iloc[train_index]\n",
    "    pred_gbm.append(gbm.fit(xtrain,ytrain).predict(dummytest))"
   ]
  },
  {
   "cell_type": "code",
   "execution_count": 73,
   "id": "0e4b281a",
   "metadata": {},
   "outputs": [],
   "source": [
    "from xgboost import XGBRegressor\n",
    "xgb = XGBRegressor()\n",
    "\n",
    "pred_xgb = []\n",
    "for train_index, test_index in kfold.split(X, y):\n",
    "    xtrain = X.iloc[train_index]\n",
    "    ytrain = y.iloc[train_index]\n",
    "    pred_xgb.append(xgb.fit(xtrain,ytrain).predict(dummytest))"
   ]
  },
  {
   "cell_type": "code",
   "execution_count": 75,
   "id": "ff59a77c",
   "metadata": {},
   "outputs": [
    {
     "name": "stdout",
     "output_type": "stream",
     "text": [
      "Collecting lightgbm\n",
      "  Downloading lightgbm-3.3.5-py3-none-win_amd64.whl (1.0 MB)\n",
      "Requirement already satisfied: numpy in c:\\users\\asus\\anaconda3\\lib\\site-packages (from lightgbm) (1.20.3)\n",
      "Requirement already satisfied: scipy in c:\\users\\asus\\anaconda3\\lib\\site-packages (from lightgbm) (1.7.1)\n",
      "Requirement already satisfied: wheel in c:\\users\\asus\\anaconda3\\lib\\site-packages (from lightgbm) (0.37.0)\n",
      "Requirement already satisfied: scikit-learn!=0.22.0 in c:\\users\\asus\\anaconda3\\lib\\site-packages (from lightgbm) (1.2.2)\n",
      "Requirement already satisfied: threadpoolctl>=2.0.0 in c:\\users\\asus\\anaconda3\\lib\\site-packages (from scikit-learn!=0.22.0->lightgbm) (2.2.0)\n",
      "Requirement already satisfied: joblib>=1.1.1 in c:\\users\\asus\\anaconda3\\lib\\site-packages (from scikit-learn!=0.22.0->lightgbm) (1.2.0)\n",
      "Installing collected packages: lightgbm\n",
      "Successfully installed lightgbm-3.3.5\n"
     ]
    }
   ],
   "source": [
    "!pip install lightgbm\n"
   ]
  },
  {
   "cell_type": "code",
   "execution_count": 76,
   "id": "54a1e493",
   "metadata": {},
   "outputs": [],
   "source": [
    "from lightgbm import LGBMRegressor\n",
    "\n",
    "lgbm = LGBMRegressor()\n",
    "\n",
    "pred_lgbm = []\n",
    "for train_index, test_index in kfold.split(X, y):\n",
    "    xtrain = X.iloc[train_index]\n",
    "    ytrain = y.iloc[train_index]\n",
    "    pred_lgbm.append(lgbm.fit(xtrain,ytrain).predict(dummytest))"
   ]
  },
  {
   "cell_type": "code",
   "execution_count": 77,
   "id": "99eab939",
   "metadata": {},
   "outputs": [],
   "source": [
    "# Submission of Random Forest Model\n",
    "total = np.abs(pd.DataFrame(pred_rf).T.mean(axis = 1))\n",
    "\n",
    "test[\"fare\"] = total\n",
    "\n",
    "total_fare = test[\"fare\"]+test[\"tip\"]+test[\"miscellaneous_fees\"]\n",
    "\n",
    "submission = pd.DataFrame({\"total_fare\":total_fare})"
   ]
  },
  {
   "cell_type": "code",
   "execution_count": 78,
   "id": "9eea36c2",
   "metadata": {},
   "outputs": [],
   "source": [
    "# Export it outside\n",
    "submission.to_csv(\"RandomForest.csv\", index=False) # 0.18486"
   ]
  },
  {
   "cell_type": "code",
   "execution_count": 79,
   "id": "bccd12bc",
   "metadata": {},
   "outputs": [],
   "source": [
    "# Submission of Gradient Boosting Model\n",
    "total = np.abs(pd.DataFrame(pred_gbm).T.mean(axis = 1))\n",
    "\n",
    "test[\"fare\"] = total\n",
    "\n",
    "total_fare = test[\"fare\"]+test[\"tip\"]+test[\"miscellaneous_fees\"]\n",
    "\n",
    "submission = pd.DataFrame({\"total_fare\":total_fare})"
   ]
  },
  {
   "cell_type": "code",
   "execution_count": 80,
   "id": "1460311b",
   "metadata": {},
   "outputs": [],
   "source": [
    "# Export it outside\n",
    "submission.to_csv(\"GBM.csv\", index=False)"
   ]
  },
  {
   "cell_type": "code",
   "execution_count": 81,
   "id": "6ea266d9",
   "metadata": {},
   "outputs": [],
   "source": [
    "# Submission of XGB Model\n",
    "total = np.abs(pd.DataFrame(pred_xgb).T.mean(axis = 1))\n",
    "\n",
    "test[\"fare\"] = total\n",
    "\n",
    "total_fare = test[\"fare\"]+test[\"tip\"]+test[\"miscellaneous_fees\"]\n",
    "\n",
    "submission = pd.DataFrame({\"total_fare\":total_fare})"
   ]
  },
  {
   "cell_type": "code",
   "execution_count": 82,
   "id": "3bfaa019",
   "metadata": {},
   "outputs": [],
   "source": [
    "# Export it outside\n",
    "submission.to_csv(\"XGB.csv\", index=False) # RMSE 0.18400"
   ]
  },
  {
   "cell_type": "code",
   "execution_count": 83,
   "id": "5b729663",
   "metadata": {},
   "outputs": [],
   "source": [
    "# Submission of LGBM Model\n",
    "total = np.abs(pd.DataFrame(pred_lgbm).T.mean(axis = 1))\n",
    "\n",
    "test[\"fare\"] = total\n",
    "\n",
    "total_fare = test[\"fare\"]+test[\"tip\"]+test[\"miscellaneous_fees\"]\n",
    "\n",
    "submission = pd.DataFrame({\"total_fare\":total_fare})"
   ]
  },
  {
   "cell_type": "code",
   "execution_count": 84,
   "id": "fa42a9d4",
   "metadata": {},
   "outputs": [],
   "source": [
    "# Export it outside\n",
    "submission.to_csv(\"LGBM.csv\", index=False) # RMSE 0.18701"
   ]
  },
  {
   "cell_type": "markdown",
   "id": "7766a074",
   "metadata": {},
   "source": [
    "### Tuning of Parameters for XGB Regressor"
   ]
  },
  {
   "cell_type": "code",
   "execution_count": 85,
   "id": "5d47e7af",
   "metadata": {},
   "outputs": [],
   "source": [
    "from sklearn.model_selection import GridSearchCV\n",
    "\n",
    "xgb = XGBRegressor()\n",
    "\n",
    "params = {'learning_rate':[0.1, 0.01, 0.001, 0.5],\n",
    "         'max_depth':[3, 5, 7, 8],\n",
    "         'n_estimators':[100, 300, 500],\n",
    "         'subsample':[0.6, 0.8, 1]}\n",
    "\n",
    "# Estimator that will find the best possible perm-comb of the parameters\n",
    "grid = GridSearchCV(estimator = xgb, \n",
    "                    param_grid=params,\n",
    "                    cv = 5, \n",
    "                    scoring = \"neg_mean_squared_log_error\")"
   ]
  },
  {
   "cell_type": "code",
   "execution_count": null,
   "id": "73de6952",
   "metadata": {},
   "outputs": [],
   "source": [
    "# Fit the Grid Search on the Data\n",
    "\n",
    "grid.fit(X, y)   \n",
    "print(\"Best Parameters: \", grid.best_params_)"
   ]
  },
  {
   "cell_type": "markdown",
   "id": "a431d0cd",
   "metadata": {},
   "source": [
    "#### Summary\n",
    "\n",
    "* EDA followed with Statistics & Machine Learning Model\n",
    "* Clustering and PCA and use all of that intelligence to build the Model.\n",
    "* Live/Close Competition as applicable...\n",
    "\n",
    "Key Learning - Feature Engineering, Outlier Identification and Missing Value treatment are the key factors that decide the Model Performance."
   ]
  },
  {
   "cell_type": "code",
   "execution_count": null,
   "id": "8dfab27d",
   "metadata": {},
   "outputs": [],
   "source": []
  }
 ],
 "metadata": {
  "kernelspec": {
   "display_name": "Python 3 (ipykernel)",
   "language": "python",
   "name": "python3"
  },
  "language_info": {
   "codemirror_mode": {
    "name": "ipython",
    "version": 3
   },
   "file_extension": ".py",
   "mimetype": "text/x-python",
   "name": "python",
   "nbconvert_exporter": "python",
   "pygments_lexer": "ipython3",
   "version": "3.9.7"
  }
 },
 "nbformat": 4,
 "nbformat_minor": 5
}
